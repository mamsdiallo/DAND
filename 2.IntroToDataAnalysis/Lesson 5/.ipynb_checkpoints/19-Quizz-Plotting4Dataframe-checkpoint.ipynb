{
 "cells": [
  {
   "cell_type": "markdown",
   "metadata": {},
   "source": [
    "# Plotting for Dataframe\n",
    "## Quizz 19"
   ]
  },
  {
   "cell_type": "code",
   "execution_count": 47,
   "metadata": {
    "collapsed": true
   },
   "outputs": [],
   "source": [
    "import matplotlib.pyplot as plt\n",
    "import numpy as np\n",
    "import pandas as pd\n",
    "import seaborn as sns\n",
    "\n",
    "values = np.array([1, 3, 2, 4, 1, 6, 4])\n",
    "example_df = pd.DataFrame({\n",
    "    'value': values,\n",
    "    'even': values % 2 == 0,\n",
    "    'above_three': values > 3 \n",
    "}, index=['a', 'b', 'c', 'd', 'e', 'f', 'g'])"
   ]
  },
  {
   "cell_type": "code",
   "execution_count": 48,
   "metadata": {
    "collapsed": false
   },
   "outputs": [
    {
     "name": "stdout",
     "output_type": "stream",
     "text": [
      "      above_three  value\n",
      "even                    \n",
      "False       False      1\n",
      "True        False      2\n"
     ]
    }
   ],
   "source": [
    "# Change False to True for this block of code to see what it does\n",
    "\n",
    "# groupby() without as_index\n",
    "if True:\n",
    "    first_even = example_df.groupby('even').first()\n",
    "    print first_even\n",
    "    #print first_even['even'] # Causes an error. 'even' is no longer a column in the DataFrame"
   ]
  },
  {
   "cell_type": "code",
   "execution_count": 49,
   "metadata": {
    "collapsed": false
   },
   "outputs": [
    {
     "name": "stdout",
     "output_type": "stream",
     "text": [
      "    even above_three  value\n",
      "0  False       False      1\n",
      "1   True       False      2\n",
      "0    False\n",
      "1     True\n",
      "Name: even, dtype: bool\n"
     ]
    }
   ],
   "source": [
    "# groupby() with as_index=False\n",
    "if True:\n",
    "    first_even = example_df.groupby('even', as_index=False).first()\n",
    "    print first_even\n",
    "    print first_even['even'] # Now 'even' is still a column in the DataFrame"
   ]
  },
  {
   "cell_type": "code",
   "execution_count": 50,
   "metadata": {
    "collapsed": true
   },
   "outputs": [],
   "source": [
    "#filename = '/datasets/ud170/subway/nyc_subway_weather.csv'\n",
    "filename = 'nyc_subway_weather.csv'\n",
    "subway_df = pd.read_csv(filename)\n",
    "\n",
    "## Make a plot of your choice here showing something interesting about the subway data.\n",
    "## Matplotlib documentation here: http://matplotlib.org/api/pyplot_api.html\n",
    "## Once you've got something you're happy with, share it on the forums!"
   ]
  },
  {
   "cell_type": "markdown",
   "metadata": {
    "collapsed": true
   },
   "source": [
    "# Analysis\n",
    "## Question\n",
    "relation between weather factors and use of subway\n",
    "relation between day of the week and use of subway\n",
    "what are crowdy hours\n",
    "what are the top used stations\n",
    "what is the maximum flows (/hour)"
   ]
  },
  {
   "cell_type": "code",
   "execution_count": 51,
   "metadata": {
    "collapsed": false
   },
   "outputs": [
    {
     "data": {
      "text/plain": [
       "(42649, 27)"
      ]
     },
     "execution_count": 51,
     "metadata": {},
     "output_type": "execute_result"
    }
   ],
   "source": [
    "subway_df.shape"
   ]
  },
  {
   "cell_type": "code",
   "execution_count": 52,
   "metadata": {
    "collapsed": false
   },
   "outputs": [
    {
     "data": {
      "text/plain": [
       "UNIT               42649\n",
       "DATEn              42649\n",
       "TIMEn              42649\n",
       "ENTRIESn           42649\n",
       "EXITSn             42649\n",
       "ENTRIESn_hourly    42649\n",
       "EXITSn_hourly      42649\n",
       "datetime           42649\n",
       "hour               42649\n",
       "day_week           42649\n",
       "weekday            42649\n",
       "station            42649\n",
       "latitude           42649\n",
       "longitude          42649\n",
       "conds              42649\n",
       "fog                42649\n",
       "precipi            42649\n",
       "pressurei          42649\n",
       "rain               42649\n",
       "tempi              42649\n",
       "wspdi              42649\n",
       "meanprecipi        42649\n",
       "meanpressurei      42649\n",
       "meantempi          42649\n",
       "meanwspdi          42649\n",
       "weather_lat        42649\n",
       "weather_lon        42649\n",
       "dtype: int64"
      ]
     },
     "execution_count": 52,
     "metadata": {},
     "output_type": "execute_result"
    }
   ],
   "source": [
    "subway_df.notnull().sum()"
   ]
  },
  {
   "cell_type": "code",
   "execution_count": 53,
   "metadata": {
    "collapsed": false
   },
   "outputs": [
    {
     "name": "stdout",
     "output_type": "stream",
     "text": [
      "UNIT                              R003\n",
      "DATEn                         05-01-11\n",
      "TIMEn                         00:00:00\n",
      "ENTRIESn                       4388333\n",
      "EXITSn                         2911002\n",
      "ENTRIESn_hourly                      0\n",
      "EXITSn_hourly                        0\n",
      "datetime           2011-05-01 00:00:00\n",
      "hour                                 0\n",
      "day_week                             6\n",
      "weekday                              0\n",
      "station                  CYPRESS HILLS\n",
      "latitude                       40.6899\n",
      "longitude                     -73.8726\n",
      "conds                            Clear\n",
      "fog                                  0\n",
      "precipi                              0\n",
      "pressurei                        30.22\n",
      "rain                                 0\n",
      "tempi                             55.9\n",
      "wspdi                              3.5\n",
      "meanprecipi                          0\n",
      "meanpressurei                   30.258\n",
      "meantempi                        55.98\n",
      "meanwspdi                         7.86\n",
      "weather_lat                    40.7003\n",
      "weather_lon                   -73.8872\n",
      "Name: 0, dtype: object\n",
      "----\n",
      "UNIT                              R464\n",
      "DATEn                         05-31-11\n",
      "TIMEn                         20:00:00\n",
      "ENTRIESn                        419894\n",
      "EXITSn                           95280\n",
      "ENTRIESn_hourly                      0\n",
      "EXITSn_hourly                        0\n",
      "datetime           2011-05-31 20:00:00\n",
      "hour                                20\n",
      "day_week                             1\n",
      "weekday                              1\n",
      "station                 AQUEDUCT TRACK\n",
      "latitude                       40.6682\n",
      "longitude                      -73.834\n",
      "conds                            Clear\n",
      "fog                                  0\n",
      "precipi                              0\n",
      "pressurei                        30.18\n",
      "rain                                 0\n",
      "tempi                             69.1\n",
      "wspdi                              4.6\n",
      "meanprecipi                          0\n",
      "meanpressurei                  30.1683\n",
      "meantempi                      75.3667\n",
      "meanwspdi                          7.1\n",
      "weather_lat                      40.66\n",
      "weather_lon                   -73.8448\n",
      "Name: 42648, dtype: object\n"
     ]
    }
   ],
   "source": [
    "# Accessing elements\n",
    "print subway_df.iloc[0]\n",
    "print \"----\"\n",
    "print subway_df.iloc[42648]"
   ]
  },
  {
   "cell_type": "code",
   "execution_count": 54,
   "metadata": {
    "collapsed": false,
    "scrolled": true
   },
   "outputs": [
    {
     "data": {
      "text/html": [
       "<div>\n",
       "<table border=\"1\" class=\"dataframe\">\n",
       "  <thead>\n",
       "    <tr style=\"text-align: right;\">\n",
       "      <th></th>\n",
       "      <th>UNIT</th>\n",
       "      <th>DATEn</th>\n",
       "      <th>TIMEn</th>\n",
       "      <th>ENTRIESn</th>\n",
       "      <th>EXITSn</th>\n",
       "      <th>ENTRIESn_hourly</th>\n",
       "      <th>EXITSn_hourly</th>\n",
       "      <th>datetime</th>\n",
       "      <th>hour</th>\n",
       "      <th>day_week</th>\n",
       "      <th>...</th>\n",
       "      <th>pressurei</th>\n",
       "      <th>rain</th>\n",
       "      <th>tempi</th>\n",
       "      <th>wspdi</th>\n",
       "      <th>meanprecipi</th>\n",
       "      <th>meanpressurei</th>\n",
       "      <th>meantempi</th>\n",
       "      <th>meanwspdi</th>\n",
       "      <th>weather_lat</th>\n",
       "      <th>weather_lon</th>\n",
       "    </tr>\n",
       "  </thead>\n",
       "  <tbody>\n",
       "    <tr>\n",
       "      <th>0</th>\n",
       "      <td>R003</td>\n",
       "      <td>05-01-11</td>\n",
       "      <td>00:00:00</td>\n",
       "      <td>4388333</td>\n",
       "      <td>2911002</td>\n",
       "      <td>0.0</td>\n",
       "      <td>0.0</td>\n",
       "      <td>2011-05-01 00:00:00</td>\n",
       "      <td>0</td>\n",
       "      <td>6</td>\n",
       "      <td>...</td>\n",
       "      <td>30.22</td>\n",
       "      <td>0</td>\n",
       "      <td>55.9</td>\n",
       "      <td>3.5</td>\n",
       "      <td>0.0</td>\n",
       "      <td>30.258</td>\n",
       "      <td>55.98</td>\n",
       "      <td>7.86</td>\n",
       "      <td>40.700348</td>\n",
       "      <td>-73.887177</td>\n",
       "    </tr>\n",
       "    <tr>\n",
       "      <th>1</th>\n",
       "      <td>R003</td>\n",
       "      <td>05-01-11</td>\n",
       "      <td>04:00:00</td>\n",
       "      <td>4388333</td>\n",
       "      <td>2911002</td>\n",
       "      <td>0.0</td>\n",
       "      <td>0.0</td>\n",
       "      <td>2011-05-01 04:00:00</td>\n",
       "      <td>4</td>\n",
       "      <td>6</td>\n",
       "      <td>...</td>\n",
       "      <td>30.25</td>\n",
       "      <td>0</td>\n",
       "      <td>52.0</td>\n",
       "      <td>3.5</td>\n",
       "      <td>0.0</td>\n",
       "      <td>30.258</td>\n",
       "      <td>55.98</td>\n",
       "      <td>7.86</td>\n",
       "      <td>40.700348</td>\n",
       "      <td>-73.887177</td>\n",
       "    </tr>\n",
       "    <tr>\n",
       "      <th>2</th>\n",
       "      <td>R003</td>\n",
       "      <td>05-01-11</td>\n",
       "      <td>12:00:00</td>\n",
       "      <td>4388333</td>\n",
       "      <td>2911002</td>\n",
       "      <td>0.0</td>\n",
       "      <td>0.0</td>\n",
       "      <td>2011-05-01 12:00:00</td>\n",
       "      <td>12</td>\n",
       "      <td>6</td>\n",
       "      <td>...</td>\n",
       "      <td>30.28</td>\n",
       "      <td>0</td>\n",
       "      <td>62.1</td>\n",
       "      <td>6.9</td>\n",
       "      <td>0.0</td>\n",
       "      <td>30.258</td>\n",
       "      <td>55.98</td>\n",
       "      <td>7.86</td>\n",
       "      <td>40.700348</td>\n",
       "      <td>-73.887177</td>\n",
       "    </tr>\n",
       "    <tr>\n",
       "      <th>3</th>\n",
       "      <td>R003</td>\n",
       "      <td>05-01-11</td>\n",
       "      <td>16:00:00</td>\n",
       "      <td>4388333</td>\n",
       "      <td>2911002</td>\n",
       "      <td>0.0</td>\n",
       "      <td>0.0</td>\n",
       "      <td>2011-05-01 16:00:00</td>\n",
       "      <td>16</td>\n",
       "      <td>6</td>\n",
       "      <td>...</td>\n",
       "      <td>30.26</td>\n",
       "      <td>0</td>\n",
       "      <td>57.9</td>\n",
       "      <td>15.0</td>\n",
       "      <td>0.0</td>\n",
       "      <td>30.258</td>\n",
       "      <td>55.98</td>\n",
       "      <td>7.86</td>\n",
       "      <td>40.700348</td>\n",
       "      <td>-73.887177</td>\n",
       "    </tr>\n",
       "    <tr>\n",
       "      <th>4</th>\n",
       "      <td>R003</td>\n",
       "      <td>05-01-11</td>\n",
       "      <td>20:00:00</td>\n",
       "      <td>4388333</td>\n",
       "      <td>2911002</td>\n",
       "      <td>0.0</td>\n",
       "      <td>0.0</td>\n",
       "      <td>2011-05-01 20:00:00</td>\n",
       "      <td>20</td>\n",
       "      <td>6</td>\n",
       "      <td>...</td>\n",
       "      <td>30.28</td>\n",
       "      <td>0</td>\n",
       "      <td>52.0</td>\n",
       "      <td>10.4</td>\n",
       "      <td>0.0</td>\n",
       "      <td>30.258</td>\n",
       "      <td>55.98</td>\n",
       "      <td>7.86</td>\n",
       "      <td>40.700348</td>\n",
       "      <td>-73.887177</td>\n",
       "    </tr>\n",
       "  </tbody>\n",
       "</table>\n",
       "<p>5 rows × 27 columns</p>\n",
       "</div>"
      ],
      "text/plain": [
       "   UNIT     DATEn     TIMEn  ENTRIESn   EXITSn  ENTRIESn_hourly  \\\n",
       "0  R003  05-01-11  00:00:00   4388333  2911002              0.0   \n",
       "1  R003  05-01-11  04:00:00   4388333  2911002              0.0   \n",
       "2  R003  05-01-11  12:00:00   4388333  2911002              0.0   \n",
       "3  R003  05-01-11  16:00:00   4388333  2911002              0.0   \n",
       "4  R003  05-01-11  20:00:00   4388333  2911002              0.0   \n",
       "\n",
       "   EXITSn_hourly             datetime  hour  day_week     ...       pressurei  \\\n",
       "0            0.0  2011-05-01 00:00:00     0         6     ...           30.22   \n",
       "1            0.0  2011-05-01 04:00:00     4         6     ...           30.25   \n",
       "2            0.0  2011-05-01 12:00:00    12         6     ...           30.28   \n",
       "3            0.0  2011-05-01 16:00:00    16         6     ...           30.26   \n",
       "4            0.0  2011-05-01 20:00:00    20         6     ...           30.28   \n",
       "\n",
       "  rain  tempi  wspdi meanprecipi  meanpressurei  meantempi  meanwspdi  \\\n",
       "0    0   55.9    3.5         0.0         30.258      55.98       7.86   \n",
       "1    0   52.0    3.5         0.0         30.258      55.98       7.86   \n",
       "2    0   62.1    6.9         0.0         30.258      55.98       7.86   \n",
       "3    0   57.9   15.0         0.0         30.258      55.98       7.86   \n",
       "4    0   52.0   10.4         0.0         30.258      55.98       7.86   \n",
       "\n",
       "   weather_lat  weather_lon  \n",
       "0    40.700348   -73.887177  \n",
       "1    40.700348   -73.887177  \n",
       "2    40.700348   -73.887177  \n",
       "3    40.700348   -73.887177  \n",
       "4    40.700348   -73.887177  \n",
       "\n",
       "[5 rows x 27 columns]"
      ]
     },
     "execution_count": 54,
     "metadata": {},
     "output_type": "execute_result"
    }
   ],
   "source": [
    "subway_df.head()"
   ]
  },
  {
   "cell_type": "code",
   "execution_count": 55,
   "metadata": {
    "collapsed": false,
    "scrolled": false
   },
   "outputs": [
    {
     "name": "stdout",
     "output_type": "stream",
     "text": [
      "    UNIT  ENTRIESn_hourly  EXITSn_hourly\n",
      "64  R084     10046.634409    7888.913978\n",
      "16  R022      9534.258065    7975.774194\n",
      "8   R012      8700.333333    5830.758065\n",
      "37  R046      8360.844086    5207.295699\n",
      "44  R055      8359.172043    6316.951613\n"
     ]
    }
   ],
   "source": [
    "# groupby() with as_index=False\n",
    "if True:\n",
    "    grouped_data = subway_df.groupby('UNIT', as_index=False)\n",
    "    ridership_byStn = grouped_data['ENTRIESn_hourly','EXITSn_hourly'].mean()\n",
    "    df =  ridership_byStn.sort_values(by='ENTRIESn_hourly',ascending=False).head()\n",
    "    print df\n",
    "    #print first_even['even'] # Now 'even' is still a column in the DataFrame"
   ]
  },
  {
   "cell_type": "code",
   "execution_count": 56,
   "metadata": {
    "collapsed": false
   },
   "outputs": [],
   "source": [
    "import seaborn as sns\n",
    "import matplotlib.pyplot as plt\n",
    "\n",
    "#df.plot()\n",
    "#plt.show()"
   ]
  },
  {
   "cell_type": "code",
   "execution_count": 57,
   "metadata": {
    "collapsed": false,
    "scrolled": true
   },
   "outputs": [
    {
     "data": {
      "text/plain": [
       "<matplotlib.figure.Figure at 0xd4bf7f0>"
      ]
     },
     "metadata": {},
     "output_type": "display_data"
    },
    {
     "data": {
      "image/png": "[encoded data removed]",
      "text/plain": [
       "<matplotlib.figure.Figure at 0xd90b780>"
      ]
     },
     "metadata": {},
     "output_type": "display_data"
    }
   ],
   "source": [
    "fig = plt.figure(figsize=(8,5))\n",
    "df.plot(kind=\"bar\", color = \"blue\",title='Top entry flow')\n",
    "plt.show()"
   ]
  },
  {
   "cell_type": "code",
   "execution_count": 58,
   "metadata": {
    "collapsed": false
   },
   "outputs": [
    {
     "name": "stdout",
     "output_type": "stream",
     "text": [
      "     UNIT  day_week  ENTRIESn_hourly  EXITSn_hourly\n",
      "449  R084         1          32814.0        21156.0\n",
      "100  R020         2          32289.0        33215.0\n",
      "116  R022         4          32289.0        22518.0\n",
      "50   R011         1          32202.0         7971.0\n",
      "98   R020         0          31859.0        29930.0\n"
     ]
    }
   ],
   "source": [
    "if True:\n",
    "    grouped_data = subway_df.groupby(['UNIT','day_week'], as_index=False)\n",
    "    ridership_byStn = grouped_data['ENTRIESn_hourly','EXITSn_hourly'].max()\n",
    "    df =  ridership_byStn.sort_values(by='ENTRIESn_hourly',ascending=False).head()\n",
    "    print df\n",
    "    #print first_even['even'] # Now 'even' is still a column in the DataFrame"
   ]
  },
  {
   "cell_type": "code",
   "execution_count": 59,
   "metadata": {
    "collapsed": false
   },
   "outputs": [
    {
     "name": "stdout",
     "output_type": "stream",
     "text": [
      "     UNIT  day_week  ENTRIESn_hourly  EXITSn_hourly\n",
      "452  R084         4           1707.0          622.0\n",
      "450  R084         2           1611.0          492.0\n",
      "451  R084         3           1404.0          495.0\n",
      "449  R084         1           1140.0          401.0\n",
      "60   R012         4           1069.0          633.0\n"
     ]
    }
   ],
   "source": [
    "if True:\n",
    "    grouped_data = subway_df.groupby(['UNIT','day_week'], as_index=False)\n",
    "    ridership_byStn = grouped_data['ENTRIESn_hourly','EXITSn_hourly'].min()\n",
    "    df =  ridership_byStn.sort_values(by='ENTRIESn_hourly',ascending=False).head()\n",
    "    print df"
   ]
  },
  {
   "cell_type": "code",
   "execution_count": 60,
   "metadata": {
    "collapsed": false,
    "scrolled": true
   },
   "outputs": [
    {
     "name": "stdout",
     "output_type": "stream",
     "text": [
      "     UNIT  day_week  ENTRIESn_hourly  EXITSn_hourly\n",
      "450  R084         2     12246.125000    9455.041667\n",
      "451  R084         3     11986.083333    9293.958333\n",
      "114  R022         2     11926.000000    9792.791667\n",
      "449  R084         1     11893.933333    9177.633333\n",
      "262  R046         3     11565.958333    7135.791667\n"
     ]
    }
   ],
   "source": [
    "if True:\n",
    "    grouped_data = subway_df.groupby(['UNIT','day_week'], as_index=False)\n",
    "    ridership_byStn = grouped_data['ENTRIESn_hourly','EXITSn_hourly'].mean()\n",
    "    df =  ridership_byStn.sort_values(by='ENTRIESn_hourly',ascending=False).head()\n",
    "    print df"
   ]
  },
  {
   "cell_type": "code",
   "execution_count": 61,
   "metadata": {
    "collapsed": false,
    "scrolled": true
   },
   "outputs": [
    {
     "name": "stdout",
     "output_type": "stream",
     "text": [
      "   rain  ENTRIESn_hourly  EXITSn_hourly\n",
      "1     1      2028.196035    1459.373918\n",
      "0     0      1845.539439    1333.111451\n"
     ]
    }
   ],
   "source": [
    "if True:\n",
    "    grouped_data = subway_df.groupby(['rain'], as_index=False)\n",
    "    ridership_byStn = grouped_data['ENTRIESn_hourly','EXITSn_hourly'].mean()\n",
    "    df =  ridership_byStn.sort_values(by='ENTRIESn_hourly',ascending=False)\n",
    "    print df"
   ]
  }
 ],
 "metadata": {
  "anaconda-cloud": {},
  "kernelspec": {
   "display_name": "Python [conda env:DAND]",
   "language": "python",
   "name": "conda-env-DAND-py"
  },
  "language_info": {
   "codemirror_mode": {
    "name": "ipython",
    "version": 2
   },
   "file_extension": ".py",
   "mimetype": "text/x-python",
   "name": "python",
   "nbconvert_exporter": "python",
   "pygments_lexer": "ipython2",
   "version": "2.7.12"
  }
 },
 "nbformat": 4,
 "nbformat_minor": 2
}
