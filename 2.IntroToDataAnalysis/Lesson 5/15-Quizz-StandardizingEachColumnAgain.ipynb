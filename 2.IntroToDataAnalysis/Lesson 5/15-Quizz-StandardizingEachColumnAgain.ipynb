{
 "cells": [
  {
   "cell_type": "markdown",
   "metadata": {},
   "source": [
    "# Standardizing Each Column Again\n",
    "## Quizz 15"
   ]
  },
  {
   "cell_type": "code",
   "execution_count": 60,
   "metadata": {
    "collapsed": false
   },
   "outputs": [
    {
     "name": "stdout",
     "output_type": "stream",
     "text": [
      "    0   1    2    3\n",
      "0  10  50   90  130\n",
      "1  20  60  100  140\n",
      "2  30  70  110  150\n",
      "3  40  80  120  160\n",
      "\n",
      "    0   1    2    3\n",
      "0  11  52   93  134\n",
      "1  21  62  103  144\n",
      "2  31  72  113  154\n",
      "3  41  82  123  164\n"
     ]
    }
   ],
   "source": [
    "import pandas as pd\n",
    "\n",
    "# Adding using +\n",
    "if True:\n",
    "    s = pd.Series([1, 2, 3, 4])\n",
    "    df = pd.DataFrame({\n",
    "        0: [10, 20, 30, 40],\n",
    "        1: [50, 60, 70, 80],\n",
    "        2: [90, 100, 110, 120],\n",
    "        3: [130, 140, 150, 160]\n",
    "    })\n",
    "    \n",
    "    print df\n",
    "    print '' # Create a blank line between outputs\n",
    "    print df + s"
   ]
  },
  {
   "cell_type": "code",
   "execution_count": 61,
   "metadata": {
    "collapsed": false
   },
   "outputs": [
    {
     "name": "stdout",
     "output_type": "stream",
     "text": [
      "    0   1    2    3\n",
      "0  10  50   90  130\n",
      "1  20  60  100  140\n",
      "2  30  70  110  150\n",
      "3  40  80  120  160\n",
      "\n",
      "    0   1    2    3\n",
      "0  11  51   91  131\n",
      "1  22  62  102  142\n",
      "2  33  73  113  153\n",
      "3  44  84  124  164\n"
     ]
    }
   ],
   "source": [
    "# Adding with axis='index'\n",
    "if True:\n",
    "    s = pd.Series([1, 2, 3, 4])\n",
    "    df = pd.DataFrame({\n",
    "        0: [10, 20, 30, 40],\n",
    "        1: [50, 60, 70, 80],\n",
    "        2: [90, 100, 110, 120],\n",
    "        3: [130, 140, 150, 160]\n",
    "    })\n",
    "    \n",
    "    print df\n",
    "    print '' # Create a blank line between outputs\n",
    "    print df.add(s, axis='index')\n",
    "    # The functions sub(), mul(), and div() work similarly to add()"
   ]
  },
  {
   "cell_type": "code",
   "execution_count": 62,
   "metadata": {
    "collapsed": false
   },
   "outputs": [
    {
     "name": "stdout",
     "output_type": "stream",
     "text": [
      "    0   1    2    3\n",
      "0  10  50   90  130\n",
      "1  20  60  100  140\n",
      "2  30  70  110  150\n",
      "3  40  80  120  160\n",
      "\n",
      "    0   1    2    3\n",
      "0  11  52   93  134\n",
      "1  21  62  103  144\n",
      "2  31  72  113  154\n",
      "3  41  82  123  164\n"
     ]
    }
   ],
   "source": [
    "# Adding with axis='columns'\n",
    "if True:\n",
    "    s = pd.Series([1, 2, 3, 4])\n",
    "    df = pd.DataFrame({\n",
    "        0: [10, 20, 30, 40],\n",
    "        1: [50, 60, 70, 80],\n",
    "        2: [90, 100, 110, 120],\n",
    "        3: [130, 140, 150, 160]\n",
    "    })\n",
    "    \n",
    "    print df\n",
    "    print '' # Create a blank line between outputs\n",
    "    print df.add(s, axis='columns')\n",
    "    # The functions sub(), mul(), and div() work similarly to add()"
   ]
  },
  {
   "cell_type": "code",
   "execution_count": 63,
   "metadata": {
    "collapsed": true
   },
   "outputs": [],
   "source": [
    "grades_df = pd.DataFrame(\n",
    "    data={'exam1': [43, 81, 78, 75, 89, 70, 91, 65, 98, 87],\n",
    "          'exam2': [24, 63, 56, 56, 67, 51, 79, 46, 72, 60]},\n",
    "    index=['Andre', 'Barry', 'Chris', 'Dan', 'Emilio', \n",
    "           'Fred', 'Greta', 'Humbert', 'Ivan', 'James']\n",
    ")"
   ]
  },
  {
   "cell_type": "code",
   "execution_count": 71,
   "metadata": {
    "collapsed": false
   },
   "outputs": [
    {
     "name": "stdout",
     "output_type": "stream",
     "text": [
      "            exam1     exam2\n",
      "Andre   -2.315341 -2.304599\n",
      "Barry    0.220191  0.386400\n",
      "Chris    0.020017 -0.096600\n",
      "Dan     -0.180156 -0.096600\n",
      "Emilio   0.753987  0.662400\n",
      "Fred    -0.513779 -0.441600\n",
      "Greta    0.887436  1.490400\n",
      "Humbert -0.847401 -0.786600\n",
      "Ivan     1.354508  1.007400\n",
      "James    0.620538  0.179400\n",
      "         exam1  exam2\n",
      "Andre      1.0   -1.0\n",
      "Barry      1.0   -1.0\n",
      "Chris      1.0   -1.0\n",
      "Dan        1.0   -1.0\n",
      "Emilio     1.0   -1.0\n",
      "Fred       1.0   -1.0\n",
      "Greta      1.0   -1.0\n",
      "Humbert    1.0   -1.0\n",
      "Ivan       1.0   -1.0\n",
      "James      1.0   -1.0\n"
     ]
    }
   ],
   "source": [
    "def standardize(df):\n",
    "    '''\n",
    "    Fill in this function to standardize each column of the given\n",
    "    DataFrame. To standardize a variable, convert each value to the\n",
    "    number of standard deviations it is above or below the mean.\n",
    "    \n",
    "    This time, try to use vectorized operations instead of apply().\n",
    "    You should get the same results as you did before.\n",
    "    '''\n",
    "    s = df.mean(axis='index')\n",
    "    sd = df.std(axis='index',ddof=0)\n",
    "    return (df - s)/sd\n",
    "\n",
    "print standardize(grades_df)\n",
    "\n",
    "def standardize_rows(df):\n",
    "    '''\n",
    "    Optional: Fill in this function to standardize each row of the given\n",
    "    DataFrame. Again, try not to use apply().\n",
    "    \n",
    "    This one is more challenging than standardizing each column!\n",
    "    '''\n",
    "    m = df.values.mean(axis=1)\n",
    "    sd = df.values.std(axis=1,ddof=0)\n",
    "    a = df.sub(m, axis='index')\n",
    "    b = a.div(sd, axis='index')\n",
    "    return b\n",
    "\n",
    "print standardize_rows(grades_df)"
   ]
  },
  {
   "cell_type": "code",
   "execution_count": 82,
   "metadata": {
    "collapsed": false,
    "scrolled": true
   },
   "outputs": [
    {
     "name": "stdout",
     "output_type": "stream",
     "text": [
      "         exam1  exam2\n",
      "Andre       43     24\n",
      "Barry       81     63\n",
      "Chris       78     56\n",
      "Dan         75     56\n",
      "Emilio      89     67\n",
      "Fred        70     51\n",
      "Greta       91     79\n",
      "Humbert     65     46\n",
      "Ivan        98     72\n",
      "James       87     60\n"
     ]
    }
   ],
   "source": [
    "print grades_df"
   ]
  },
  {
   "cell_type": "code",
   "execution_count": 83,
   "metadata": {
    "collapsed": false,
    "scrolled": true
   },
   "outputs": [
    {
     "name": "stdout",
     "output_type": "stream",
     "text": [
      "exam1    77.7\n",
      "exam2    57.4\n",
      "dtype: float64\n"
     ]
    }
   ],
   "source": [
    "s = grades_df.mean()\n",
    "print s"
   ]
  },
  {
   "cell_type": "code",
   "execution_count": 84,
   "metadata": {
    "collapsed": false
   },
   "outputs": [
    {
     "name": "stdout",
     "output_type": "stream",
     "text": [
      "exam1    14.986994\n",
      "exam2    14.492757\n",
      "dtype: float64\n"
     ]
    }
   ],
   "source": [
    "sd = grades_df.std(ddof=0)\n",
    "print sd"
   ]
  },
  {
   "cell_type": "code",
   "execution_count": 85,
   "metadata": {
    "collapsed": false
   },
   "outputs": [
    {
     "data": {
      "text/html": [
       "<div>\n",
       "<table border=\"1\" class=\"dataframe\">\n",
       "  <thead>\n",
       "    <tr style=\"text-align: right;\">\n",
       "      <th></th>\n",
       "      <th>exam1</th>\n",
       "      <th>exam2</th>\n",
       "    </tr>\n",
       "  </thead>\n",
       "  <tbody>\n",
       "    <tr>\n",
       "      <th>Andre</th>\n",
       "      <td>-2.315341</td>\n",
       "      <td>-2.304599</td>\n",
       "    </tr>\n",
       "    <tr>\n",
       "      <th>Barry</th>\n",
       "      <td>0.220191</td>\n",
       "      <td>0.386400</td>\n",
       "    </tr>\n",
       "    <tr>\n",
       "      <th>Chris</th>\n",
       "      <td>0.020017</td>\n",
       "      <td>-0.096600</td>\n",
       "    </tr>\n",
       "    <tr>\n",
       "      <th>Dan</th>\n",
       "      <td>-0.180156</td>\n",
       "      <td>-0.096600</td>\n",
       "    </tr>\n",
       "    <tr>\n",
       "      <th>Emilio</th>\n",
       "      <td>0.753987</td>\n",
       "      <td>0.662400</td>\n",
       "    </tr>\n",
       "    <tr>\n",
       "      <th>Fred</th>\n",
       "      <td>-0.513779</td>\n",
       "      <td>-0.441600</td>\n",
       "    </tr>\n",
       "    <tr>\n",
       "      <th>Greta</th>\n",
       "      <td>0.887436</td>\n",
       "      <td>1.490400</td>\n",
       "    </tr>\n",
       "    <tr>\n",
       "      <th>Humbert</th>\n",
       "      <td>-0.847401</td>\n",
       "      <td>-0.786600</td>\n",
       "    </tr>\n",
       "    <tr>\n",
       "      <th>Ivan</th>\n",
       "      <td>1.354508</td>\n",
       "      <td>1.007400</td>\n",
       "    </tr>\n",
       "    <tr>\n",
       "      <th>James</th>\n",
       "      <td>0.620538</td>\n",
       "      <td>0.179400</td>\n",
       "    </tr>\n",
       "  </tbody>\n",
       "</table>\n",
       "</div>"
      ],
      "text/plain": [
       "            exam1     exam2\n",
       "Andre   -2.315341 -2.304599\n",
       "Barry    0.220191  0.386400\n",
       "Chris    0.020017 -0.096600\n",
       "Dan     -0.180156 -0.096600\n",
       "Emilio   0.753987  0.662400\n",
       "Fred    -0.513779 -0.441600\n",
       "Greta    0.887436  1.490400\n",
       "Humbert -0.847401 -0.786600\n",
       "Ivan     1.354508  1.007400\n",
       "James    0.620538  0.179400"
      ]
     },
     "execution_count": 85,
     "metadata": {},
     "output_type": "execute_result"
    }
   ],
   "source": [
    "(grades_df - s)/sd"
   ]
  },
  {
   "cell_type": "code",
   "execution_count": 88,
   "metadata": {
    "collapsed": false
   },
   "outputs": [
    {
     "name": "stdout",
     "output_type": "stream",
     "text": [
      "[ 33.5  72.   67.   65.5  78.   60.5  85.   55.5  85.   73.5]\n"
     ]
    }
   ],
   "source": [
    "s = grades_df.values.mean(axis=1)\n",
    "print s"
   ]
  },
  {
   "cell_type": "code",
   "execution_count": 90,
   "metadata": {
    "collapsed": false,
    "scrolled": true
   },
   "outputs": [
    {
     "name": "stdout",
     "output_type": "stream",
     "text": [
      "[ 33.5  72.   67.   65.5  78.   60.5  85.   55.5  85.   73.5]\n",
      "[  9.5   9.   11.    9.5  11.    9.5   6.    9.5  13.   13.5]\n",
      "         exam1  exam2\n",
      "Andre      9.5   -9.5\n",
      "Barry      9.0   -9.0\n",
      "Chris     11.0  -11.0\n",
      "Dan        9.5   -9.5\n",
      "Emilio    11.0  -11.0\n",
      "Fred       9.5   -9.5\n",
      "Greta      6.0   -6.0\n",
      "Humbert    9.5   -9.5\n",
      "Ivan      13.0  -13.0\n",
      "James     13.5  -13.5\n",
      "         exam1  exam2\n",
      "Andre      1.0   -1.0\n",
      "Barry      1.0   -1.0\n",
      "Chris      1.0   -1.0\n",
      "Dan        1.0   -1.0\n",
      "Emilio     1.0   -1.0\n",
      "Fred       1.0   -1.0\n",
      "Greta      1.0   -1.0\n",
      "Humbert    1.0   -1.0\n",
      "Ivan       1.0   -1.0\n",
      "James      1.0   -1.0\n"
     ]
    }
   ],
   "source": [
    "m = grades_df.values.mean(axis=1)\n",
    "print m\n",
    "sd = grades_df.values.std(axis=1,ddof=0)\n",
    "print sd\n",
    "a = grades_df.sub(m, axis='index')\n",
    "print a\n",
    "b = a.div(sd, axis='index')\n",
    "print b\n",
    "#  The functions sub(), mul(), and div() work similarly to add()"
   ]
  },
  {
   "cell_type": "code",
   "execution_count": null,
   "metadata": {
    "collapsed": true
   },
   "outputs": [],
   "source": []
  }
 ],
 "metadata": {
  "kernelspec": {
   "display_name": "Python [conda env:DAND]",
   "language": "python",
   "name": "conda-env-DAND-py"
  },
  "language_info": {
   "codemirror_mode": {
    "name": "ipython",
    "version": 2
   },
   "file_extension": ".py",
   "mimetype": "text/x-python",
   "name": "python",
   "nbconvert_exporter": "python",
   "pygments_lexer": "ipython2",
   "version": "2.7.12"
  }
 },
 "nbformat": 4,
 "nbformat_minor": 2
}
