{
 "cells": [
  {
   "cell_type": "markdown",
   "metadata": {},
   "source": [
    "# Pandas Series apply\n",
    "## Quizz16"
   ]
  },
  {
   "cell_type": "code",
   "execution_count": 41,
   "metadata": {
    "collapsed": true
   },
   "outputs": [],
   "source": [
    "import pandas as pd\n",
    "\n",
    "# Change False to True to see what the following block of code does\n",
    "\n",
    "# Example pandas apply() usage (although this could have been done\n",
    "# without apply() using vectorized operations)\n",
    "if False:\n",
    "    s = pd.Series([1, 2, 3, 4, 5])\n",
    "    def add_one(x):\n",
    "        return x + 1\n",
    "    print s.apply(add_one)\n",
    "\n",
    "names = pd.Series([\n",
    "    'Andre Agassi',\n",
    "    'Barry Bonds',\n",
    "    'Christopher Columbus',\n",
    "    'Daniel Defoe',\n",
    "    'Emilio Estevez',\n",
    "    'Fred Flintstone',\n",
    "    'Greta Garbo',\n",
    "    'Humbert Humbert',\n",
    "    'Ivan Ilych',\n",
    "    'James Joyce',\n",
    "    'Keira Knightley',\n",
    "    'Lois Lane',\n",
    "    'Mike Myers',\n",
    "    'Nick Nolte',\n",
    "    'Ozzy Osbourne',\n",
    "    'Pablo Picasso',\n",
    "    'Quirinus Quirrell',\n",
    "    'Rachael Ray',\n",
    "    'Susan Sarandon',\n",
    "    'Tina Turner',\n",
    "    'Ugueth Urbina',\n",
    "    'Vince Vaughn',\n",
    "    'Woodrow Wilson',\n",
    "    'Yoji Yamada',\n",
    "    'Zinedine Zidane'\n",
    "])\n"
   ]
  },
  {
   "cell_type": "code",
   "execution_count": 44,
   "metadata": {
    "collapsed": true
   },
   "outputs": [],
   "source": [
    "def swap_name(name):\n",
    "    sp = name.split(' ')\n",
    "    rev = sp[-1]+', '+sp[0]\n",
    "    return rev"
   ]
  },
  {
   "cell_type": "code",
   "execution_count": 45,
   "metadata": {
    "collapsed": true
   },
   "outputs": [],
   "source": [
    "def reverse_names(names):\n",
    "    '''\n",
    "    Fill in this function to return a new series where each name\n",
    "    in the input series has been transformed from the format\n",
    "    \"Firstname Lastname\" to \"Lastname, FirstName\".\n",
    "    \n",
    "    Try to use the Pandas apply() function rather than a loop.\n",
    "    '''\n",
    "    return names.apply(swap_name)"
   ]
  },
  {
   "cell_type": "code",
   "execution_count": 46,
   "metadata": {
    "collapsed": false
   },
   "outputs": [
    {
     "name": "stdout",
     "output_type": "stream",
     "text": [
      "0             Agassi, Andre\n",
      "1              Bonds, Barry\n",
      "2     Columbus, Christopher\n",
      "3             Defoe, Daniel\n",
      "4           Estevez, Emilio\n",
      "5          Flintstone, Fred\n",
      "6              Garbo, Greta\n",
      "7          Humbert, Humbert\n",
      "8               Ilych, Ivan\n",
      "9              Joyce, James\n",
      "10         Knightley, Keira\n",
      "11               Lane, Lois\n",
      "12              Myers, Mike\n",
      "13              Nolte, Nick\n",
      "14           Osbourne, Ozzy\n",
      "15           Picasso, Pablo\n",
      "16       Quirrell, Quirinus\n",
      "17             Ray, Rachael\n",
      "18          Sarandon, Susan\n",
      "19             Turner, Tina\n",
      "20           Urbina, Ugueth\n",
      "21            Vaughn, Vince\n",
      "22          Wilson, Woodrow\n",
      "23             Yamada, Yoji\n",
      "24         Zidane, Zinedine\n",
      "dtype: object\n"
     ]
    }
   ],
   "source": [
    "print reverse_names(names)"
   ]
  }
 ],
 "metadata": {
  "kernelspec": {
   "display_name": "Python [conda env:DAND]",
   "language": "python",
   "name": "conda-env-DAND-py"
  },
  "language_info": {
   "codemirror_mode": {
    "name": "ipython",
    "version": 2
   },
   "file_extension": ".py",
   "mimetype": "text/x-python",
   "name": "python",
   "nbconvert_exporter": "python",
   "pygments_lexer": "ipython2",
   "version": "2.7.12"
  }
 },
 "nbformat": 4,
 "nbformat_minor": 2
}
