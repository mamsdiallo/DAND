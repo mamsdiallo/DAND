{
 "cells": [
  {
   "cell_type": "markdown",
   "metadata": {},
   "source": [
    "# Titanic Dataset Analysis\n",
    "\n",
    "Creation Date:21/07/2017 \n",
    "\n",
    "**Author**: Mamadou Diallo\n",
    "\n",
    "Source code for analysis (separate file): '__*Titanic Dataset Notebook Coding.ipynb*__'"
   ]
  },
  {
   "cell_type": "markdown",
   "metadata": {},
   "source": [
    "## Dataset selected\n",
    "In the frame of Udacity Data Analyst Nanodegree this project is conducted using the Titanic Dataset found [here](https://d17h27t6h515a5.cloudfront.net/topher/2016/September/57e9a84c_titanic-data/titanic-data.csv)\n",
    "\n",
    "The kaggle site - cf. [kaggleTitanic] in documentation section - contains the original source of the data and its description."
   ]
  },
  {
   "cell_type": "markdown",
   "metadata": {},
   "source": [
    "## Questions\n",
    "\n",
    "__Q1. What are the most important factors to survival (e.g. Sex, Class, ...)__\n",
    "\n",
    "__Q2. Did they apply the protocol \"Women and Children first\"?__ \n",
    "\n",
    "__Q3. Is there any linear correlation among factors?__ \n",
    "\n",
    "__Q4. How to deal with missing values?__ "
   ]
  },
  {
   "cell_type": "markdown",
   "metadata": {},
   "source": [
    "## Approach to investigate the questions\n",
    "\n",
    "- Q1: Use of grouping techniques by categories (e.g. Sex, Embarked, etc.). We will use programming based on document [Hdbk]. We'll use plots with the help of document [Plot].\n",
    " \n",
    "- Q2: The computation of the survival numbers by category (e.g. Sex, Embarked) and investigation (such as Document [Wikipedia]) if the protocol was enforced.\n",
    " \n",
    "- Q3: The use of the Pearson's correlation matrix would be usefull. And an example is provided in document [HM]\n",
    " \n",
    "- Q4: Measure the % of missing values per feature (i.e. variable). Use of articles on the subject such as document [MV]."
   ]
  },
  {
   "cell_type": "markdown",
   "metadata": {},
   "source": [
    "## Data Description\n",
    "The following Data Dictionary is given from Document [kaggleTitanic]\n",
    "\n",
    "Variable\t| Definition\t  | Key\n",
    "------------- | ------------- | -------------\n",
    "survival\t | Survival\t   | 0 = No, 1 = Yes\n",
    "pclass       | Ticket class   | 1 = 1st, 2 = 2nd, 3 = 3rd\n",
    "Sex\t         | Sex            | male/female\t\n",
    "Age\t         | Age            | in years\t\n",
    "sibsp\t     | # of siblings / spouses aboard the Titanic | \t\n",
    "parch\t     | # of parents / children aboard the Titanic | \t\n",
    "ticket\t     | Ticket number | \t\n",
    "fare\t     | Passenger fare | \t\n",
    "cabin\t     | Cabin number | \t\n",
    "embarked\t | Port of Embarkation | \tC = Cherbourg, Q = Queenstown, S = Southampton\n",
    "\n",
    "pclass is A proxy for socio-economic status (SES). 1st = Upper, 2nd = Middle, 3rd = Lower\n",
    "\n",
    "Age is fractional if less than 1. If the age is estimated, is it in the form of xx.5\n",
    "\n",
    "sibsp: The dataset defines family relations in this way...\n",
    "Sibling = brother, sister, stepbrother, stepsister\n",
    "Spouse = husband, wife (mistresses and fiancés were ignored)\n",
    "\n",
    "parch: The dataset defines family relations in this way...\n",
    "Parent = mother, father\n",
    "Child = daughter, son, stepdaughter, stepson\n",
    "Some children travelled only with a nanny, therefore parch=0 for them."
   ]
  },
  {
   "cell_type": "markdown",
   "metadata": {},
   "source": [
    "## Data Wrangling\n",
    "\n",
    "To convert and Split nominal features, we use methodology proposed in document [Edx]. Pandas .get_dummies() method allows us to completely replace a single, nominal feature with multiple boolean indicator features.\n",
    "\n",
    "In addition, when analysing the correlation between features it is preferrable to convert these categorical features into boolean features.\n",
    "\n",
    "- Sex split into 2 boolean features: 'Sex_female','Sex_male'. Done in SOURCE CODE *§ Change feature representation for Sex* \n",
    "\n",
    "- Embarked split into 3 variables boolean features: 'Embarked_C', 'Embarked_Q','Embarked_S'. Done  in SOURCE CODE *§ Change feature representation for Embarked*\n",
    "\n",
    "- We create a new Title feature from Name feature as proposed in Document [FE]. Then we split it into boolean features: Title_Mr, Title_Master, Title_Mrs, Title_Miss. Done in SOURCE CODE *§ Change feature representation for Title*\n",
    "\n",
    "- We create the boolean Child feature (passenger with age under 18) to answer the question relate Women and Children first protocol. Done in SOURCE CODE *§ Build new feature Child*\n",
    "\n",
    "We don't need to consider the following variables for analysing the relations between features (correlation):\n",
    "- 'PassengerId': since it is replication (shifted by 1) with the line number or the data frame index. \n",
    "- 'Cabin': since there are too little data, we'll skip this feature.\n",
    "- 'Name': Each name is unique\n",
    "- 'Ticket': as such, the textual feature is no use for analysing relation with other features.\n",
    "\n",
    "**About missing values:**\n",
    "\n",
    "We had 3 features - Cabin, Age and Embarked - concerned by missing values and since the size of the dataset is not large, we did not consider the deletion of entire observations (rows) containing missing values.\n",
    "Dealing completely with missing values is part of the questions (Q4)"
   ]
  },
  {
   "cell_type": "markdown",
   "metadata": {},
   "source": [
    "## Features Study\n",
    "Number of passengers (i.e. observations) in the data source: 891\n",
    "\n",
    "On April 15, 1912, the Titanic sank after colliding with an iceberg, killing 1502 out of 2224 passengers and crew according to document [Wikipedia]. \n",
    "\n",
    "The data provided in document [kaggleTitanic] shows that it is the training data. It represents 40% (i.e. 891/2224) of the overall population of the Titanic.\n",
    "\n",
    "In the file, the typical passenger (given by the computation of the mode of the dataframe):\n",
    "- did not survived\n",
    "- was male \n",
    "- had the title Mr\n",
    "- was 30 year old.\n",
    "- was in the 3rd class \n",
    "- paid a fare of 8.05\n",
    "- embarked at Southampton\n",
    "- had no sibling and no spouse\n",
    "- had no parent"
   ]
  },
  {
   "cell_type": "markdown",
   "metadata": {},
   "source": [
    "## Definitions: Continuous Features vs Categorical Features\n",
    "\n",
    "Given from Document [Edx]:\n",
    "\n",
    "**Throughout the document, we'll use the word '*feature*' instead of the word '*variable*'. They can be used interchangeably.**\n",
    "\n",
    "- **Continuous Features**\n",
    "\n",
    "In the case of continuous features, there exist a measurable difference between possible feature values. Feature values usually are also a subset of all real numbers:\n",
    "\n",
    "- **Categorical Features**\n",
    "\n",
    "With categorical features, there is a specified number of discrete, possible feature values. These values may or may not have ordering to them. If they do have a natural ordering, they are called ordinal categorical features. Otherwise if there is no intrinsic ordering, they are called nominal categorical features.\n",
    "\n",
    "Example  | Type\n",
    "------------- | -------------\n",
    "Distance | Continuous\n",
    "Time | Continuous \n",
    "Cost | Continuous \n",
    "Temperature | Continuous\n",
    "Car Models | Nominal \n",
    "Colors | Nominal \n",
    "TV Shows | Nominal\n",
    "High-Medium-Low | Ordinal\n",
    "1-10 Years Old, 11-20 Years Old, 30-40 Years Old | Ordinal\n",
    "Happy, Neutral, Sad | Ordinal\n"
   ]
  },
  {
   "cell_type": "markdown",
   "metadata": {},
   "source": [
    "## Features Study\n",
    "We have 12 features - i.e. variables - which are either __continuous or categorical__.\n",
    "\n",
    "__The dependant variable is 'Survived' and the rest are independant variables__.\n",
    "\n",
    "Categorical features could be split into two sub-types:\n",
    "\n",
    "ordinal feature or nominal."
   ]
  },
  {
   "cell_type": "markdown",
   "metadata": {
    "collapsed": false
   },
   "source": [
    "![Diagram](TypeOfFeatures.png)"
   ]
  },
  {
   "cell_type": "markdown",
   "metadata": {},
   "source": [
    "__Two Continuous features are: Age and Fare__\n",
    "\n",
    "__*Age*__: \n",
    "\n",
    "Its type is float64.\n",
    "\n",
    "Variable  | Value\n",
    "------------- | -------------\n",
    "mode      | 30.0\n",
    "median | 30.0\n",
    "mean      |29.377295\n",
    "std       |13.254246\n",
    "min        |0.420000\n",
    "25%       |21.000000\n",
    "50%       |30.000000\n",
    "75%       |35.000000\n",
    "max       |80.000000\n",
    "\n",
    "\n",
    "![Diagram](boxplotAge.png)\n",
    "\n",
    "\n",
    "__*Fare*__: \n",
    "\n",
    "Its type is float64. \n",
    "\n",
    "Variable  | Value\n",
    "------------- | -------------\n",
    "mode | 8.05\n",
    "mean | 32.2042079686\n",
    "std | 49.6934285972\n",
    "min | 0.0\n",
    "25% | 7.910400\n",
    "50% | 14.454200\n",
    "75% | 31.000000\n",
    "max | 512.3292\n",
    "\n",
    "![Diagram](boxplotFare.png)\n",
    "\n"
   ]
  },
  {
   "cell_type": "markdown",
   "metadata": {},
   "source": [
    "### Here below are their distribution:"
   ]
  },
  {
   "cell_type": "markdown",
   "metadata": {
    "collapsed": false
   },
   "source": [
    "![Diagram](AgeDistribution.png)"
   ]
  },
  {
   "cell_type": "markdown",
   "metadata": {
    "collapsed": false,
    "scrolled": true
   },
   "source": [
    "![Diagram](FareDistribution.png)"
   ]
  },
  {
   "cell_type": "markdown",
   "metadata": {},
   "source": [
    "The Fare feature distribution is left-skewed (see Fare distribution here above)"
   ]
  },
  {
   "cell_type": "markdown",
   "metadata": {},
   "source": [
    "### Relation Between *Age* and *Fare* features"
   ]
  },
  {
   "cell_type": "markdown",
   "metadata": {
    "collapsed": false
   },
   "source": [
    "![Diagram](RelationFarevsAge.png)"
   ]
  },
  {
   "cell_type": "markdown",
   "metadata": {},
   "source": [
    "There is no relation between the two continuous features (Fare and Age) as shown here above"
   ]
  },
  {
   "cell_type": "markdown",
   "metadata": {},
   "source": [
    "__Categorical features are:__\n",
    "\n",
    "'*Pclass*', Ordinal feature (1st class > 2nd Class > 3rd Class in terms of confort)\n",
    "\n",
    "'*SibSp*', Ordinal feature.\n",
    "\n",
    "'*Parch*', Ordinal feature.\n",
    "\n",
    "'*Survived*', Nominal feature. Two possible values (0 = No, 1 = Yes)\n",
    "\n",
    "'*PassengerId*', Nominal feature (no rank in numbers) as identifier.\n",
    "\n",
    "'*Name*', Nominal feature (Textual feature).\n",
    "\n",
    "'*Sex*', Nominal feature. Two possible values: male or female.\n",
    "\n",
    "'*Ticket*', Nominal feature (Textual feature).\n",
    "\n",
    "'*Cabin*', Nominal feature.\n",
    "\n",
    "'*Embarked*', Nominal feature. Only 3 points of Embarcation."
   ]
  },
  {
   "cell_type": "markdown",
   "metadata": {
    "collapsed": false
   },
   "source": [
    "### Distribution of Embarked feature:"
   ]
  },
  {
   "cell_type": "markdown",
   "metadata": {},
   "source": [
    "![Diagram](NbPassengersByEmbarcationPt.png)\n",
    "\n",
    "**KEYS: C = Cherbourg, Q = Queenstown, S = Southampton**"
   ]
  },
  {
   "cell_type": "markdown",
   "metadata": {},
   "source": [
    "__About Duplicated data:__\n",
    "\n",
    "The code shows that the following categorical features have duplicates:\n",
    "\n",
    "- **Cabin**: meaning some passengers shared the same cabin. Moreover, some passengers have many cabins\n",
    "\n",
    "- **Ticket**: meaning some passengers were registered on the same ticket.\n",
    "\n",
    "The following categorical features don't have duplicates:\n",
    "\n",
    "- **Name**: meaning this feature could be considered as unique and as an identifier\n",
    "\n",
    "- **PassengerId**: this feature is redundant with the index"
   ]
  },
  {
   "cell_type": "markdown",
   "metadata": {},
   "source": [
    "### Relation between features"
   ]
  },
  {
   "cell_type": "markdown",
   "metadata": {},
   "source": [
    "Relation Fare vs Embarked vs Pclass\n",
    "![Diagram](boxplotFarevsEmbarkedvsPclass.png)"
   ]
  },
  {
   "cell_type": "markdown",
   "metadata": {},
   "source": [
    "Relation Survived vs Age vs Title_Miss: It gives clues on:\n",
    "- Age distribution according to Survival and \n",
    "- relation between Title Miss, Survival and Age features\n",
    "![Diagram](SexFactorv2.png)"
   ]
  },
  {
   "cell_type": "markdown",
   "metadata": {},
   "source": [
    "Relation Survived vs Age vs Title_Mrs: It gives clues on:\n",
    "- Age distribution according to Survival and \n",
    "- relation between Title Mrs, Survival and Age features\n",
    "\n",
    "![Diagram](SexFactorv3.png)"
   ]
  },
  {
   "cell_type": "markdown",
   "metadata": {
    "collapsed": false
   },
   "source": [
    "Reuse of document [HM] for building the Correlation Diagram.\n",
    "![Diagram](PearsonCorrelationOfFeatures.png)"
   ]
  },
  {
   "cell_type": "markdown",
   "metadata": {},
   "source": [
    "__Linear Correlation deduced from Pearson's Correlation Diagram:__\n",
    "\n",
    "Survived and Sex (female) have a linear relationship (increasing).\n",
    "\n",
    "Survived and Title (Mr) have a linear relationship (decreasing). It is not a surprise since Title (Mr) and Sex (female) are strongly correlated. \n",
    "\n",
    "Pclass and Fare have a linear relationship (decreasing).\n",
    "\n",
    "Master and Age have a linear relationship (decreasing).\n",
    "\n",
    "Point of Embarcation C and S have a strong linear relationship. It is normal since Point of Embarcation C, S, Q are built from Embarked.  \n",
    "\n",
    "Age and Child have a significant linear relationship. It is normal since child was built from Age.\n",
    "\n",
    "SibSp and Parch have a linear relationship."
   ]
  },
  {
   "cell_type": "markdown",
   "metadata": {},
   "source": [
    "## Importance of factors on survival"
   ]
  },
  {
   "cell_type": "markdown",
   "metadata": {
    "collapsed": false,
    "scrolled": true
   },
   "source": [
    "![Diagram](ClassFactorv2.png)"
   ]
  },
  {
   "cell_type": "markdown",
   "metadata": {
    "collapsed": false
   },
   "source": [
    "![Diagram](SexFactor.png)"
   ]
  },
  {
   "cell_type": "markdown",
   "metadata": {
    "collapsed": false
   },
   "source": [
    "![Diagram](EmbarcationFactor.png)"
   ]
  },
  {
   "cell_type": "markdown",
   "metadata": {
    "collapsed": false
   },
   "source": [
    "![Diagram](TitleFactor.png)"
   ]
  },
  {
   "cell_type": "markdown",
   "metadata": {
    "collapsed": false
   },
   "source": [
    "![Diagram](ChildFactorv2.png)"
   ]
  },
  {
   "cell_type": "markdown",
   "metadata": {},
   "source": [
    "## Answer to questions"
   ]
  },
  {
   "cell_type": "markdown",
   "metadata": {},
   "source": [
    "- __Q1. What are the most important factors to survival (e.g. Sex, Class, ...)?__\n",
    "\n",
    "__Title__: Significantly More survival chance for Mrs, Miss and slight more chance for Master. Significantly less survival chance for Mr.\n",
    "\n",
    "__Sex__: Significantly more survival chance for Sex is female. Significantly less survival chance for sex is male.\n",
    "\n",
    "__Class__: The first class has higher survival chance than other classes. The third class has less chance than the two others.\n",
    "\n",
    "__Embarked__: Point of Embarcation influences the survival chance and Cherbourg is favored.\n",
    "\n",
    "__Children__: Being a child (under 18) gave slightly more survival chance.\n",
    "\n",
    "- __Q2. Did they apply the protocol \"Women and Children first\"?__ \n",
    "\n",
    "In document [Wikipedia] \"A disproportionate number of men were left aboard because of a \"women and children first\" protocol for loading lifeboats\". It has been applied and the figures reflect it for Women.\n",
    "__The figures confirm strongly for women and slightly for children.__\n",
    "\n",
    "- __Q3. Is there any linear correlation among factors?__\n",
    "\n",
    "To establish it is it practical to use numerical values. See here above in Section *'Relation between features'*\n",
    "The linear correlation among features has been established numerically and in figure 'Pearson Correlation of Features.png' provided here above "
   ]
  },
  {
   "cell_type": "markdown",
   "metadata": {},
   "source": [
    "- __Q4. How to deal with missing values?__"
   ]
  },
  {
   "cell_type": "markdown",
   "metadata": {},
   "source": [
    "![Diagram](MissingDataAmongFeatures.png)"
   ]
  },
  {
   "cell_type": "markdown",
   "metadata": {},
   "source": [
    "High percentage of missing values for Cabin feature. __Nothing can be done for Cabin feature.__\n",
    "\n",
    "Significant percentage of missing values for Age feature but something can be done for this feature. __Replace missing values for Age with the median value of the group split by title.__ See Coding in *§ Processing missing values for Age*\n",
    "\n",
    "Title\t| Age (median)\n",
    "------------- | ------------- \n",
    "Master | 3.5\n",
    "Miss | 21.0\n",
    "Mr | 30.0\n",
    "Mrs | 35.0\n",
    "\n",
    "There is a very small percentage (0.2 %) of missing values for Embarked feature. __For the Embarked features, replacement of the actual values is possible (i.e. Southampton). They have been found in document [DB] from the name of the passengers.__"
   ]
  },
  {
   "cell_type": "markdown",
   "metadata": {},
   "source": [
    "## Way forward: \n",
    " \n",
    "It would be useful but not in the scope of the assignment:\n",
    "- MAKE PREDICTION: to apply machine learning (e.g. Logistic Regression) to build a model and make prediction.\n",
    "- GET MORE DATA: to get more data and split it into training and test data. The information about crew passengers might give more insight. "
   ]
  },
  {
   "cell_type": "markdown",
   "metadata": {},
   "source": [
    "## Documentation/References\n",
    "\n",
    "Here is the list of references - including Web sites, books, blog posts - used for my submission.\n",
    "\n",
    "[Edx] Web site: DAT210x Programming with Python for Data Science: \n",
    "[EdxSite](https://courses.edx.org/courses/course-v1:Microsoft+DAT210x+2T2017/info)\n",
    "\n",
    "[FE] Feature Engineering:\n",
    "[site](https://triangleinequality.wordpress.com/2013/09/08/basic-feature-engineering-with-the-titanic-data/5)\n",
    "\n",
    "[DB] Encyclopedia Titanica database:\n",
    "[site](https://www.encyclopedia-titanica.org/)\n",
    "\n",
    "[Wikipedia] Wikipedia article - See §Survivors and victims:\n",
    "[wikipedia](https://en.wikipedia.org/wiki/RMS_Titanic)\n",
    "\n",
    "[kaggleTitanic] kaggle web site:\n",
    "[kaggleTitanic](https://www.kaggle.com/c/titanic/data)\n",
    "\n",
    "[Plot] Matplotlib resources from Blog:\n",
    "[blog](http://www.datasciencecentral.com/profiles/blogs/matplotlib-cheat-sheet)\n",
    "\n",
    "[Hdbk] Python for Data Science Handbook from Blog:\n",
    "[blog](http://www.datasciencecentral.com/profiles/blogs/book-python-data-science-handbook?utm_content=buffer09a5c&utm_medium=social&utm_source=twitter.com&utm_campaign=buffer)\n",
    "\n",
    "[HM] Heatmap example:\n",
    "[kaggle](https://www.kaggle.com/arthurtok/introduction-to-ensembling-stacking-in-python)\n",
    "\n",
    "[MV] How to treat missing values in you data from Article:\n",
    "[Article](https://clevertap.com/blog/how-to-treat-missing-values-in-your-data-part-i/)"
   ]
  }
 ],
 "metadata": {
  "anaconda-cloud": {},
  "kernelspec": {
   "display_name": "Python [conda env:DAND]",
   "language": "python",
   "name": "conda-env-DAND-py"
  },
  "language_info": {
   "codemirror_mode": {
    "name": "ipython",
    "version": 2
   },
   "file_extension": ".py",
   "mimetype": "text/x-python",
   "name": "python",
   "nbconvert_exporter": "python",
   "pygments_lexer": "ipython2",
   "version": "2.7.12"
  }
 },
 "nbformat": 4,
 "nbformat_minor": 2
}
