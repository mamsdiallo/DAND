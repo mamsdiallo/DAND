{
 "cells": [
  {
   "cell_type": "markdown",
   "metadata": {},
   "source": [
    "Before we get started, a couple of reminders to keep in mind when using iPython notebooks:\n",
    "\n",
    "- Remember that you can see from the left side of a code cell when it was last run if there is a number within the brackets.\n",
    "- When you start a new notebook session, make sure you run all of the cells up to the point where you last left off. Even if the output is still visible from when you ran the cells in your previous session, the kernel starts in a fresh state so you'll need to reload the data, etc. on a new session.\n",
    "- The previous point is useful to keep in mind if your answers do not match what is expected in the lesson's quizzes. Try reloading the data and run all of the processing steps one by one in order to make sure that you are working with the same variables and data that are at each quiz stage.\n",
    "\n",
    "\n",
    "## Load Data from CSVs"
   ]
  },
  {
   "cell_type": "code",
   "execution_count": 2,
   "metadata": {
    "collapsed": false
   },
   "outputs": [],
   "source": [
    "import unicodecsv\n",
    "\n",
    "## Longer version of code (replaced with shorter, equivalent version below)\n",
    "\n",
    "# enrollments = []\n",
    "# f = open('enrollments.csv', 'rb')\n",
    "# reader = unicodecsv.DictReader(f)\n",
    "# for row in reader:\n",
    "#     enrollments.append(row)\n",
    "# f.close()\n",
    "\n",
    "with open('./enrollments.csv', 'rb') as f:\n",
    "    reader = unicodecsv.DictReader(f)\n",
    "    enrollments = list(reader)"
   ]
  },
  {
   "cell_type": "code",
   "execution_count": 3,
   "metadata": {
    "collapsed": false
   },
   "outputs": [],
   "source": [
    "#####################################\n",
    "#                 1                 #\n",
    "#####################################\n",
    "\n",
    "## Read in the data from daily_engagement.csv and project_submissions.csv \n",
    "## and store the results in the below variables.\n",
    "## Then look at the first row of each table.\n",
    "with open('./daily_engagement.csv', 'rb') as f:\n",
    "    reader = unicodecsv.DictReader(f)\n",
    "    daily_engagement = list(reader)\n",
    "    \n",
    "with open('./project_submissions.csv', 'rb') as f:\n",
    "    reader = unicodecsv.DictReader(f)\n",
    "    project_submissions = list(reader)"
   ]
  },
  {
   "cell_type": "code",
   "execution_count": 4,
   "metadata": {
    "collapsed": false
   },
   "outputs": [
    {
     "data": {
      "text/plain": [
       "list"
      ]
     },
     "execution_count": 4,
     "metadata": {},
     "output_type": "execute_result"
    }
   ],
   "source": [
    "type(enrollments)"
   ]
  },
  {
   "cell_type": "code",
   "execution_count": 5,
   "metadata": {
    "collapsed": false
   },
   "outputs": [
    {
     "data": {
      "text/plain": [
       "{u'account_key': u'448',\n",
       " u'cancel_date': u'2015-01-14',\n",
       " u'days_to_cancel': u'65',\n",
       " u'is_canceled': u'True',\n",
       " u'is_udacity': u'True',\n",
       " u'join_date': u'2014-11-10',\n",
       " u'status': u'canceled'}"
      ]
     },
     "execution_count": 5,
     "metadata": {},
     "output_type": "execute_result"
    }
   ],
   "source": [
    "# First element\n",
    "enrollments[0]"
   ]
  },
  {
   "cell_type": "code",
   "execution_count": 6,
   "metadata": {
    "collapsed": false,
    "scrolled": true
   },
   "outputs": [
    {
     "data": {
      "text/plain": [
       "{u'account_key': u'686',\n",
       " u'cancel_date': u'',\n",
       " u'days_to_cancel': u'',\n",
       " u'is_canceled': u'False',\n",
       " u'is_udacity': u'False',\n",
       " u'join_date': u'2015-08-23',\n",
       " u'status': u'current'}"
      ]
     },
     "execution_count": 6,
     "metadata": {},
     "output_type": "execute_result"
    }
   ],
   "source": [
    "# last element\n",
    "enrollments[-1]"
   ]
  },
  {
   "cell_type": "code",
   "execution_count": 7,
   "metadata": {
    "collapsed": false,
    "scrolled": true
   },
   "outputs": [
    {
     "data": {
      "text/plain": [
       "[{u'account_key': u'448',\n",
       "  u'cancel_date': u'2015-01-14',\n",
       "  u'days_to_cancel': u'65',\n",
       "  u'is_canceled': u'True',\n",
       "  u'is_udacity': u'True',\n",
       "  u'join_date': u'2014-11-10',\n",
       "  u'status': u'canceled'},\n",
       " {u'account_key': u'448',\n",
       "  u'cancel_date': u'2014-11-10',\n",
       "  u'days_to_cancel': u'5',\n",
       "  u'is_canceled': u'True',\n",
       "  u'is_udacity': u'True',\n",
       "  u'join_date': u'2014-11-05',\n",
       "  u'status': u'canceled'}]"
      ]
     },
     "execution_count": 7,
     "metadata": {},
     "output_type": "execute_result"
    }
   ],
   "source": [
    "# slice: first 2 elements\n",
    "enrollments[0:2]"
   ]
  },
  {
   "cell_type": "code",
   "execution_count": 8,
   "metadata": {
    "collapsed": false,
    "scrolled": true
   },
   "outputs": [
    {
     "data": {
      "text/plain": [
       "u'686'"
      ]
     },
     "execution_count": 8,
     "metadata": {},
     "output_type": "execute_result"
    }
   ],
   "source": [
    "# account_key of the last element\n",
    "enrollments[-1]['account_key']"
   ]
  },
  {
   "cell_type": "code",
   "execution_count": 9,
   "metadata": {
    "collapsed": false
   },
   "outputs": [
    {
     "data": {
      "text/plain": [
       "1640"
      ]
     },
     "execution_count": 9,
     "metadata": {},
     "output_type": "execute_result"
    }
   ],
   "source": [
    "# size of the list\n",
    "len(enrollments)"
   ]
  },
  {
   "cell_type": "code",
   "execution_count": 10,
   "metadata": {
    "collapsed": false
   },
   "outputs": [
    {
     "data": {
      "text/plain": [
       "[{u'account_key': u'448',\n",
       "  u'cancel_date': u'2015-01-14',\n",
       "  u'days_to_cancel': u'65',\n",
       "  u'is_canceled': u'True',\n",
       "  u'is_udacity': u'True',\n",
       "  u'join_date': u'2014-11-10',\n",
       "  u'status': u'canceled'},\n",
       " {u'account_key': u'448',\n",
       "  u'cancel_date': u'2014-11-10',\n",
       "  u'days_to_cancel': u'5',\n",
       "  u'is_canceled': u'True',\n",
       "  u'is_udacity': u'True',\n",
       "  u'join_date': u'2014-11-05',\n",
       "  u'status': u'canceled'},\n",
       " {u'account_key': u'448',\n",
       "  u'cancel_date': u'2015-01-27',\n",
       "  u'days_to_cancel': u'0',\n",
       "  u'is_canceled': u'True',\n",
       "  u'is_udacity': u'True',\n",
       "  u'join_date': u'2015-01-27',\n",
       "  u'status': u'canceled'},\n",
       " {u'account_key': u'448',\n",
       "  u'cancel_date': u'2014-11-10',\n",
       "  u'days_to_cancel': u'0',\n",
       "  u'is_canceled': u'True',\n",
       "  u'is_udacity': u'True',\n",
       "  u'join_date': u'2014-11-10',\n",
       "  u'status': u'canceled'},\n",
       " {u'account_key': u'448',\n",
       "  u'cancel_date': u'',\n",
       "  u'days_to_cancel': u'',\n",
       "  u'is_canceled': u'False',\n",
       "  u'is_udacity': u'True',\n",
       "  u'join_date': u'2015-03-10',\n",
       "  u'status': u'current'},\n",
       " {u'account_key': u'448',\n",
       "  u'cancel_date': u'2015-01-27',\n",
       "  u'days_to_cancel': u'13',\n",
       "  u'is_canceled': u'True',\n",
       "  u'is_udacity': u'True',\n",
       "  u'join_date': u'2015-01-14',\n",
       "  u'status': u'canceled'},\n",
       " {u'account_key': u'448',\n",
       "  u'cancel_date': u'2015-03-10',\n",
       "  u'days_to_cancel': u'42',\n",
       "  u'is_canceled': u'True',\n",
       "  u'is_udacity': u'True',\n",
       "  u'join_date': u'2015-01-27',\n",
       "  u'status': u'canceled'},\n",
       " {u'account_key': u'448',\n",
       "  u'cancel_date': u'2015-01-27',\n",
       "  u'days_to_cancel': u'0',\n",
       "  u'is_canceled': u'True',\n",
       "  u'is_udacity': u'True',\n",
       "  u'join_date': u'2015-01-27',\n",
       "  u'status': u'canceled'},\n",
       " {u'account_key': u'448',\n",
       "  u'cancel_date': u'2015-01-27',\n",
       "  u'days_to_cancel': u'0',\n",
       "  u'is_canceled': u'True',\n",
       "  u'is_udacity': u'True',\n",
       "  u'join_date': u'2015-01-27',\n",
       "  u'status': u'canceled'}]"
      ]
     },
     "execution_count": 10,
     "metadata": {},
     "output_type": "execute_result"
    }
   ],
   "source": [
    "# filter element 448\n",
    "filter(lambda person: person['account_key'] == '448', enrollments)"
   ]
  },
  {
   "cell_type": "code",
   "execution_count": 11,
   "metadata": {
    "collapsed": false
   },
   "outputs": [
    {
     "name": "stdout",
     "output_type": "stream",
     "text": [
      "count=1640\n",
      "size=1640\n",
      "unique=1302\n"
     ]
    }
   ],
   "source": [
    "count = 0\n",
    "account_key = []\n",
    "for i in enrollments:\n",
    "    count +=1\n",
    "    account_key.append(i['account_key'])\n",
    "    #print i['account_key']\n",
    "    \n",
    "print \"count=\"+repr(count)\n",
    "print \"size=\"+repr(len(account_key))\n",
    "print \"unique=\"+repr(len(set(account_key)))"
   ]
  },
  {
   "cell_type": "markdown",
   "metadata": {},
   "source": [
    "## Fixing Data Types"
   ]
  },
  {
   "cell_type": "code",
   "execution_count": 12,
   "metadata": {
    "collapsed": false
   },
   "outputs": [
    {
     "data": {
      "text/plain": [
       "{u'account_key': u'448',\n",
       " u'cancel_date': datetime.datetime(2015, 1, 14, 0, 0),\n",
       " u'days_to_cancel': 65,\n",
       " u'is_canceled': True,\n",
       " u'is_udacity': True,\n",
       " u'join_date': datetime.datetime(2014, 11, 10, 0, 0),\n",
       " u'status': u'canceled'}"
      ]
     },
     "execution_count": 12,
     "metadata": {},
     "output_type": "execute_result"
    }
   ],
   "source": [
    "from datetime import datetime as dt\n",
    "\n",
    "# Takes a date as a string, and returns a Python datetime object. \n",
    "# If there is no date given, returns None\n",
    "def parse_date(date):\n",
    "    if date == '':\n",
    "        return None\n",
    "    else:\n",
    "        return dt.strptime(date, '%Y-%m-%d')\n",
    "    \n",
    "# Takes a string which is either an empty string or represents an integer,\n",
    "# and returns an int or None.\n",
    "def parse_maybe_int(i):\n",
    "    if i == '':\n",
    "        return None\n",
    "    else:\n",
    "        return int(i)\n",
    "\n",
    "# Clean up the data types in the enrollments table\n",
    "for enrollment in enrollments:\n",
    "    enrollment['cancel_date'] = parse_date(enrollment['cancel_date'])\n",
    "    enrollment['days_to_cancel'] = parse_maybe_int(enrollment['days_to_cancel'])\n",
    "    enrollment['is_canceled'] = enrollment['is_canceled'] == 'True'\n",
    "    enrollment['is_udacity'] = enrollment['is_udacity'] == 'True'\n",
    "    enrollment['join_date'] = parse_date(enrollment['join_date'])\n",
    "    \n",
    "enrollments[0]"
   ]
  },
  {
   "cell_type": "code",
   "execution_count": 13,
   "metadata": {
    "collapsed": false
   },
   "outputs": [
    {
     "data": {
      "text/plain": [
       "{u'acct': u'0',\n",
       " u'lessons_completed': 0,\n",
       " u'num_courses_visited': 1,\n",
       " u'projects_completed': 0,\n",
       " u'total_minutes_visited': 11.6793745,\n",
       " u'utc_date': datetime.datetime(2015, 1, 9, 0, 0)}"
      ]
     },
     "execution_count": 13,
     "metadata": {},
     "output_type": "execute_result"
    }
   ],
   "source": [
    "# Clean up the data types in the engagement table\n",
    "for engagement_record in daily_engagement:\n",
    "    engagement_record['lessons_completed'] = int(float(engagement_record['lessons_completed']))\n",
    "    engagement_record['num_courses_visited'] = int(float(engagement_record['num_courses_visited']))\n",
    "    engagement_record['projects_completed'] = int(float(engagement_record['projects_completed']))\n",
    "    engagement_record['total_minutes_visited'] = float(engagement_record['total_minutes_visited'])\n",
    "    engagement_record['utc_date'] = parse_date(engagement_record['utc_date'])\n",
    "    \n",
    "daily_engagement[0]"
   ]
  },
  {
   "cell_type": "code",
   "execution_count": 14,
   "metadata": {
    "collapsed": false
   },
   "outputs": [
    {
     "data": {
      "text/plain": [
       "{u'account_key': u'256',\n",
       " u'assigned_rating': u'UNGRADED',\n",
       " u'completion_date': datetime.datetime(2015, 1, 16, 0, 0),\n",
       " u'creation_date': datetime.datetime(2015, 1, 14, 0, 0),\n",
       " u'lesson_key': u'3176718735',\n",
       " u'processing_state': u'EVALUATED'}"
      ]
     },
     "execution_count": 14,
     "metadata": {},
     "output_type": "execute_result"
    }
   ],
   "source": [
    "# Clean up the data types in the submissions table\n",
    "for submission in project_submissions:\n",
    "    submission['completion_date'] = parse_date(submission['completion_date'])\n",
    "    submission['creation_date'] = parse_date(submission['creation_date'])\n",
    "\n",
    "project_submissions[0]"
   ]
  },
  {
   "cell_type": "markdown",
   "metadata": {},
   "source": [
    "Note when running the above cells that we are actively changing the contents of our data variables. If you try to run these cells multiple times in the same session, an error will occur.\n",
    "\n",
    "## Investigating the Data"
   ]
  },
  {
   "cell_type": "code",
   "execution_count": 15,
   "metadata": {
    "collapsed": false
   },
   "outputs": [],
   "source": [
    "#####################################\n",
    "#                 2                 #\n",
    "#####################################\n",
    "\n",
    "## Find the total number of rows and the number of unique students (account keys)\n",
    "## in each table.\n",
    "enrollment_num_rows = 0\n",
    "enrollment_num_unique_students = 0\n",
    "account_key = []\n",
    "for i in enrollments:\n",
    "    enrollment_num_rows +=1\n",
    "    account_key.append(i['account_key'])\n",
    "\n",
    "enrollment_num_rows = len(account_key)\n",
    "enrollment_num_unique_students = len(set(account_key))  \n",
    "\n",
    "engagement_num_rows = 0             \n",
    "engagement_num_unique_students = 0  \n",
    "acct = []\n",
    "for i in daily_engagement:\n",
    "    engagement_num_rows +=1\n",
    "    acct.append(i['acct'])\n",
    "\n",
    "\n",
    "engagement_num_rows = len(acct)             \n",
    "engagement_num_unique_students = len(set(acct))  \n",
    "\n",
    "submission_num_rows = 0             \n",
    "submission_num_unique_students = 0\n",
    "account = []\n",
    "for i in project_submissions:\n",
    "    submission_num_rows +=1\n",
    "    account.append(i['account_key'])\n",
    "\n",
    "submission_num_rows = len(account)             \n",
    "submission_num_unique_students = len(set(account))"
   ]
  },
  {
   "cell_type": "code",
   "execution_count": 16,
   "metadata": {
    "collapsed": false
   },
   "outputs": [
    {
     "name": "stdout",
     "output_type": "stream",
     "text": [
      "1640\n",
      "1302\n",
      "136240\n",
      "1237\n",
      "3642\n",
      "743\n"
     ]
    }
   ],
   "source": [
    "print enrollment_num_rows\n",
    "print enrollment_num_unique_students\n",
    "\n",
    "print engagement_num_rows\n",
    "print engagement_num_unique_students\n",
    "\n",
    "print submission_num_rows\n",
    "print submission_num_unique_students"
   ]
  },
  {
   "cell_type": "markdown",
   "metadata": {},
   "source": [
    "## Problems in the Data"
   ]
  },
  {
   "cell_type": "code",
   "execution_count": 17,
   "metadata": {
    "collapsed": false
   },
   "outputs": [
    {
     "data": {
      "text/plain": [
       "u'0'"
      ]
     },
     "execution_count": 17,
     "metadata": {},
     "output_type": "execute_result"
    }
   ],
   "source": [
    "#####################################\n",
    "#                 3                 #\n",
    "#####################################\n",
    "\n",
    "## Rename the \"acct\" column in the daily_engagement table to \"account_key\".\n",
    "for d in daily_engagement:\n",
    "    d['account_key'] = d.pop('acct')\n",
    "    \n",
    "    \n",
    "# slice: first element\n",
    "daily_engagement[0]['account_key']"
   ]
  },
  {
   "cell_type": "code",
   "execution_count": 18,
   "metadata": {
    "collapsed": false
   },
   "outputs": [
    {
     "name": "stdout",
     "output_type": "stream",
     "text": [
      "1640\n",
      "1302\n",
      "136240\n",
      "1237\n",
      "3642\n",
      "743\n"
     ]
    }
   ],
   "source": [
    "def get_unique_students(data):\n",
    "    unique_students = set()\n",
    "    for data_point in data:\n",
    "        unique_students.add(data_point['account_key'])\n",
    "    return unique_students\n",
    "\n",
    "print len(enrollments)\n",
    "unique_enrolled_students = get_unique_students(enrollments)\n",
    "print len(unique_enrolled_students)\n",
    "unique_engagement_students = get_unique_students(daily_engagement)\n",
    "print len(daily_engagement)\n",
    "print len(unique_engagement_students)\n",
    "print len(project_submissions)\n",
    "unique_project_submitters = get_unique_students(project_submissions)\n",
    "print len(unique_project_submitters)"
   ]
  },
  {
   "cell_type": "markdown",
   "metadata": {},
   "source": [
    "## Missing Engagement Records"
   ]
  },
  {
   "cell_type": "code",
   "execution_count": 19,
   "metadata": {
    "collapsed": false
   },
   "outputs": [
    {
     "name": "stdout",
     "output_type": "stream",
     "text": [
      "{u'status': u'canceled', u'is_udacity': False, u'is_canceled': True, u'join_date': datetime.datetime(2014, 11, 12, 0, 0), u'account_key': u'1219', u'cancel_date': datetime.datetime(2014, 11, 12, 0, 0), u'days_to_cancel': 0}\n"
     ]
    }
   ],
   "source": [
    "#####################################\n",
    "#                 4                 #\n",
    "#####################################\n",
    "\n",
    "## Find any one student enrollments where the student is missing from the daily engagement table.\n",
    "## Output that enrollment.\n",
    "for enrollment in enrollments:\n",
    "    student = enrollment['account_key']\n",
    "    if student not in unique_engagement_students:\n",
    "        print enrollment\n",
    "        break"
   ]
  },
  {
   "cell_type": "markdown",
   "metadata": {},
   "source": [
    "## Checking for More Problem Records"
   ]
  },
  {
   "cell_type": "code",
   "execution_count": 20,
   "metadata": {
    "collapsed": false
   },
   "outputs": [
    {
     "name": "stdout",
     "output_type": "stream",
     "text": [
      "{u'status': u'canceled', u'is_udacity': True, u'is_canceled': True, u'join_date': datetime.datetime(2015, 1, 10, 0, 0), u'account_key': u'1304', u'cancel_date': datetime.datetime(2015, 3, 10, 0, 0), u'days_to_cancel': 59}\n",
      "{u'status': u'canceled', u'is_udacity': True, u'is_canceled': True, u'join_date': datetime.datetime(2015, 3, 10, 0, 0), u'account_key': u'1304', u'cancel_date': datetime.datetime(2015, 6, 17, 0, 0), u'days_to_cancel': 99}\n",
      "2\n"
     ]
    }
   ],
   "source": [
    "#####################################\n",
    "#                 5                 #\n",
    "#####################################\n",
    "\n",
    "## Find the number of surprising data points (enrollments missing from\n",
    "## the engagement table) that remain, if any.\n",
    "count = 0\n",
    "for enrollment in enrollments:\n",
    "    student = enrollment['account_key']\n",
    "    nb = enrollment['days_to_cancel']\n",
    "    if student not in unique_engagement_students and nb > 0:\n",
    "        print enrollment\n",
    "        count +=1\n",
    "        \n",
    "print count"
   ]
  },
  {
   "cell_type": "markdown",
   "metadata": {},
   "source": [
    "## Tracking Down the Remaining Problems"
   ]
  },
  {
   "cell_type": "code",
   "execution_count": 21,
   "metadata": {
    "collapsed": false
   },
   "outputs": [
    {
     "data": {
      "text/plain": [
       "6"
      ]
     },
     "execution_count": 21,
     "metadata": {},
     "output_type": "execute_result"
    }
   ],
   "source": [
    "# Create a set of the account keys for all Udacity test accounts\n",
    "udacity_test_accounts = set()\n",
    "for enrollment in enrollments:\n",
    "    if enrollment['is_udacity']:\n",
    "        udacity_test_accounts.add(enrollment['account_key'])\n",
    "len(udacity_test_accounts)"
   ]
  },
  {
   "cell_type": "code",
   "execution_count": 22,
   "metadata": {
    "collapsed": true
   },
   "outputs": [],
   "source": [
    "# Given some data with an account_key field, removes any records corresponding to Udacity test accounts\n",
    "def remove_udacity_accounts(data):\n",
    "    non_udacity_data = []\n",
    "    for data_point in data:\n",
    "        if data_point['account_key'] not in udacity_test_accounts:\n",
    "            non_udacity_data.append(data_point)\n",
    "    return non_udacity_data"
   ]
  },
  {
   "cell_type": "code",
   "execution_count": 23,
   "metadata": {
    "collapsed": false
   },
   "outputs": [
    {
     "name": "stdout",
     "output_type": "stream",
     "text": [
      "1622\n",
      "135656\n",
      "3634\n"
     ]
    }
   ],
   "source": [
    "# Remove Udacity test accounts from all three tables\n",
    "non_udacity_enrollments = remove_udacity_accounts(enrollments)\n",
    "non_udacity_engagement = remove_udacity_accounts(daily_engagement)\n",
    "non_udacity_submissions = remove_udacity_accounts(project_submissions)\n",
    "\n",
    "print len(non_udacity_enrollments)\n",
    "print len(non_udacity_engagement)\n",
    "print len(non_udacity_submissions)"
   ]
  },
  {
   "cell_type": "markdown",
   "metadata": {},
   "source": [
    "## Refining the Question"
   ]
  },
  {
   "cell_type": "code",
   "execution_count": 24,
   "metadata": {
    "collapsed": false
   },
   "outputs": [
    {
     "name": "stdout",
     "output_type": "stream",
     "text": [
      "995\n"
     ]
    }
   ],
   "source": [
    "#####################################\n",
    "#                 6                 #\n",
    "#####################################\n",
    "\n",
    "## Create a dictionary named paid_students containing all students who either\n",
    "## haven't canceled yet or who remained enrolled for more than 7 days. The keys\n",
    "## should be account keys, and the values should be the date the student enrolled.\n",
    "paid_students = {}\n",
    "for enrollment in non_udacity_enrollments:\n",
    "    acct = enrollment['account_key']\n",
    "    #print \"account:\"+repr(acct)\n",
    "    n = 0\n",
    "    if enrollment['days_to_cancel'] != None:\n",
    "        #n = (enrollment['cancel_date'] - enrollment['join_date']).days\n",
    "        n = enrollment['days_to_cancel']\n",
    "    #print \"status:\"+repr(enrollment['status'])\n",
    "    #print \"n=\"+repr(n)\n",
    "    if enrollment['days_to_cancel']==None or (n > 7):\n",
    "        paid_students[acct] = enrollment['join_date']\n",
    "\n",
    "print len(paid_students)"
   ]
  },
  {
   "cell_type": "markdown",
   "metadata": {},
   "source": [
    "## Getting Data from First Week"
   ]
  },
  {
   "cell_type": "code",
   "execution_count": 25,
   "metadata": {
    "collapsed": true
   },
   "outputs": [],
   "source": [
    "# Takes a student's join date and the date of a specific engagement record,\n",
    "# and returns True if that engagement record happened within one week\n",
    "# of the student joining.\n",
    "def within_one_week(join_date, engagement_date):\n",
    "    time_delta = engagement_date - join_date\n",
    "    return time_delta.days < 7 and time_delta.days >= 0"
   ]
  },
  {
   "cell_type": "code",
   "execution_count": 26,
   "metadata": {
    "collapsed": false
   },
   "outputs": [
    {
     "name": "stdout",
     "output_type": "stream",
     "text": [
      "1293\n",
      "134549\n",
      "3618\n"
     ]
    }
   ],
   "source": [
    "#####################################\n",
    "#                 7                 #\n",
    "#####################################\n",
    "\n",
    "## Create a list of rows from the engagement table including only rows where\n",
    "## the student is one of the paid students you just found, and the date is within\n",
    "## one week of the student's join date.\n",
    "def remove_free_trial(data):\n",
    "    new_data = []\n",
    "    for data_point in data:\n",
    "        if data_point['account_key'] in paid_students:\n",
    "            new_data.append(data_point)\n",
    "    return new_data\n",
    "\n",
    "paid_enrollments = remove_free_trial(non_udacity_enrollments)\n",
    "paid_engagements = remove_free_trial(non_udacity_engagement)\n",
    "paid_submissions = remove_free_trial(non_udacity_submissions)\n",
    "\n",
    "print len(paid_enrollments)\n",
    "print len(paid_engagements)\n",
    "print len(paid_submissions)"
   ]
  },
  {
   "cell_type": "code",
   "execution_count": 27,
   "metadata": {
    "collapsed": false
   },
   "outputs": [
    {
     "data": {
      "text/plain": [
       "6920"
      ]
     },
     "execution_count": 27,
     "metadata": {},
     "output_type": "execute_result"
    }
   ],
   "source": [
    "paid_engagement_in_first_week = []\n",
    "\n",
    "for eng_rec in paid_engagements:\n",
    "    account_key = eng_rec['account_key']\n",
    "    join_date = paid_students[account_key]\n",
    "    eng_rec_date = eng_rec['utc_date']\n",
    "    \n",
    "    if within_one_week(join_date,eng_rec_date):\n",
    "        paid_engagement_in_first_week.append(eng_rec)\n",
    "        \n",
    "len(paid_engagement_in_first_week)"
   ]
  },
  {
   "cell_type": "markdown",
   "metadata": {},
   "source": [
    "## Exploring Student Engagement"
   ]
  },
  {
   "cell_type": "code",
   "execution_count": 28,
   "metadata": {
    "collapsed": true
   },
   "outputs": [],
   "source": [
    "from collections import defaultdict\n",
    "\n",
    "# Create a dictionary of engagement grouped by student.\n",
    "# The keys are account keys, and the values are lists of engagement records.\n",
    "engagement_by_account = defaultdict(list)\n",
    "for engagement_record in paid_engagement_in_first_week:\n",
    "    account_key = engagement_record['account_key']\n",
    "    engagement_by_account[account_key].append(engagement_record)"
   ]
  },
  {
   "cell_type": "code",
   "execution_count": 29,
   "metadata": {
    "collapsed": false
   },
   "outputs": [
    {
     "data": {
      "text/plain": [
       "[{'account_key': u'0',\n",
       "  u'lessons_completed': 0,\n",
       "  u'num_courses_visited': 1,\n",
       "  u'projects_completed': 0,\n",
       "  u'total_minutes_visited': 11.6793745,\n",
       "  u'utc_date': datetime.datetime(2015, 1, 9, 0, 0)},\n",
       " {'account_key': u'0',\n",
       "  u'lessons_completed': 0,\n",
       "  u'num_courses_visited': 2,\n",
       "  u'projects_completed': 0,\n",
       "  u'total_minutes_visited': 37.2848873333,\n",
       "  u'utc_date': datetime.datetime(2015, 1, 10, 0, 0)},\n",
       " {'account_key': u'0',\n",
       "  u'lessons_completed': 0,\n",
       "  u'num_courses_visited': 2,\n",
       "  u'projects_completed': 0,\n",
       "  u'total_minutes_visited': 53.6337463333,\n",
       "  u'utc_date': datetime.datetime(2015, 1, 11, 0, 0)},\n",
       " {'account_key': u'0',\n",
       "  u'lessons_completed': 0,\n",
       "  u'num_courses_visited': 1,\n",
       "  u'projects_completed': 0,\n",
       "  u'total_minutes_visited': 33.4892696667,\n",
       "  u'utc_date': datetime.datetime(2015, 1, 12, 0, 0)},\n",
       " {'account_key': u'0',\n",
       "  u'lessons_completed': 0,\n",
       "  u'num_courses_visited': 1,\n",
       "  u'projects_completed': 0,\n",
       "  u'total_minutes_visited': 64.7796776667,\n",
       "  u'utc_date': datetime.datetime(2015, 1, 13, 0, 0)},\n",
       " {'account_key': u'0',\n",
       "  u'lessons_completed': 1,\n",
       "  u'num_courses_visited': 1,\n",
       "  u'projects_completed': 0,\n",
       "  u'total_minutes_visited': 151.617576833,\n",
       "  u'utc_date': datetime.datetime(2015, 1, 14, 0, 0)},\n",
       " {'account_key': u'0',\n",
       "  u'lessons_completed': 0,\n",
       "  u'num_courses_visited': 1,\n",
       "  u'projects_completed': 0,\n",
       "  u'total_minutes_visited': 142.395963833,\n",
       "  u'utc_date': datetime.datetime(2015, 1, 15, 0, 0)}]"
      ]
     },
     "execution_count": 29,
     "metadata": {},
     "output_type": "execute_result"
    }
   ],
   "source": [
    "engagement_by_account['0']"
   ]
  },
  {
   "cell_type": "code",
   "execution_count": 30,
   "metadata": {
    "collapsed": true
   },
   "outputs": [],
   "source": [
    "# Create a dictionary with the total minutes each student spent in the classroom during the first week.\n",
    "# The keys are account keys, and the values are numbers (total minutes)\n",
    "total_minutes_by_account = {}\n",
    "for account_key, engagement_for_student in engagement_by_account.items():\n",
    "    total_minutes = 0\n",
    "    for engagement_record in engagement_for_student:\n",
    "        total_minutes += engagement_record['total_minutes_visited']\n",
    "    total_minutes_by_account[account_key] = total_minutes"
   ]
  },
  {
   "cell_type": "code",
   "execution_count": 31,
   "metadata": {
    "collapsed": false,
    "scrolled": true
   },
   "outputs": [
    {
     "data": {
      "text/plain": [
       "494.88049616599994"
      ]
     },
     "execution_count": 31,
     "metadata": {},
     "output_type": "execute_result"
    }
   ],
   "source": [
    "total_minutes_by_account['0']"
   ]
  },
  {
   "cell_type": "code",
   "execution_count": 32,
   "metadata": {
    "collapsed": false
   },
   "outputs": [
    {
     "data": {
      "text/plain": [
       "[1482.9020456663002, 129.85920366667, 0.0, 726.26075933267, 614.9778563333]"
      ]
     },
     "execution_count": 32,
     "metadata": {},
     "output_type": "execute_result"
    }
   ],
   "source": [
    "## first 5 values\n",
    "total_minutes_by_account.values()[0:5]"
   ]
  },
  {
   "cell_type": "code",
   "execution_count": 76,
   "metadata": {
    "collapsed": false
   },
   "outputs": [
    {
     "name": "stdout",
     "output_type": "stream",
     "text": [
      "Mean: 305.414718908\n",
      "Standard deviation: 405.91261032\n",
      "Minimum: 0.0\n",
      "Maximum: 3564.7332645\n"
     ]
    }
   ],
   "source": [
    "import numpy as np\n",
    "\n",
    "# Summarize the data about minutes spent in the classroom\n",
    "total_minutes = total_minutes_by_account.values()\n",
    "print 'Mean:', np.mean(total_minutes)\n",
    "print 'Standard deviation:', np.std(total_minutes)\n",
    "print 'Minimum:', np.min(total_minutes)\n",
    "print 'Maximum:', np.max(total_minutes)"
   ]
  },
  {
   "cell_type": "code",
   "execution_count": 77,
   "metadata": {
    "collapsed": false
   },
   "outputs": [],
   "source": [
    "for account_key, total_min in total_minutes_by_account.iteritems():\n",
    "    if total_min >= 10000:\n",
    "        print account_key\n",
    "        print engagement_by_account[account_key]"
   ]
  },
  {
   "cell_type": "markdown",
   "metadata": {},
   "source": [
    "## Debugging Data Analysis Code"
   ]
  },
  {
   "cell_type": "code",
   "execution_count": 78,
   "metadata": {
    "collapsed": false
   },
   "outputs": [
    {
     "name": "stdout",
     "output_type": "stream",
     "text": [
      "3564.7332645\n"
     ]
    }
   ],
   "source": [
    "#####################################\n",
    "#                 8                 #\n",
    "#####################################\n",
    "\n",
    "## Go through a similar process as before to see if there is a problem.\n",
    "## Locate at least one surprising piece of data, output it, and take a look at it.\n",
    "student_with_max_mn = None\n",
    "max_min = 0\n",
    "\n",
    "for student, total_min in total_minutes_by_account.items():\n",
    "    if total_min > max_min:\n",
    "        max_min = total_min\n",
    "        student_with_max_mn = student\n",
    "        \n",
    "print max_min"
   ]
  },
  {
   "cell_type": "code",
   "execution_count": 79,
   "metadata": {
    "collapsed": false
   },
   "outputs": [
    {
     "name": "stdout",
     "output_type": "stream",
     "text": [
      "{u'lessons_completed': 4, u'num_courses_visited': 4, u'total_minutes_visited': 850.519339666, u'projects_completed': 0, 'account_key': u'163', u'utc_date': datetime.datetime(2015, 7, 9, 0, 0)}\n",
      "{u'lessons_completed': 6, u'num_courses_visited': 6, u'total_minutes_visited': 872.633923334, u'projects_completed': 0, 'account_key': u'163', u'utc_date': datetime.datetime(2015, 7, 10, 0, 0)}\n",
      "{u'lessons_completed': 6, u'num_courses_visited': 2, u'total_minutes_visited': 777.018903666, u'projects_completed': 0, 'account_key': u'163', u'utc_date': datetime.datetime(2015, 7, 11, 0, 0)}\n",
      "{u'lessons_completed': 2, u'num_courses_visited': 1, u'total_minutes_visited': 294.568774, u'projects_completed': 0, 'account_key': u'163', u'utc_date': datetime.datetime(2015, 7, 12, 0, 0)}\n",
      "{u'lessons_completed': 1, u'num_courses_visited': 3, u'total_minutes_visited': 471.2139785, u'projects_completed': 0, 'account_key': u'163', u'utc_date': datetime.datetime(2015, 7, 13, 0, 0)}\n",
      "{u'lessons_completed': 1, u'num_courses_visited': 2, u'total_minutes_visited': 298.778345333, u'projects_completed': 0, 'account_key': u'163', u'utc_date': datetime.datetime(2015, 7, 14, 0, 0)}\n",
      "{u'lessons_completed': 0, u'num_courses_visited': 0, u'total_minutes_visited': 0.0, u'projects_completed': 0, 'account_key': u'163', u'utc_date': datetime.datetime(2015, 7, 15, 0, 0)}\n"
     ]
    }
   ],
   "source": [
    "for engagement_record in paid_engagement_in_first_week:\n",
    "    if engagement_record['account_key'] == student_with_max_mn:\n",
    "        print engagement_record"
   ]
  },
  {
   "cell_type": "markdown",
   "metadata": {},
   "source": [
    "## Lessons Completed in First Week"
   ]
  },
  {
   "cell_type": "code",
   "execution_count": 80,
   "metadata": {
    "collapsed": false
   },
   "outputs": [
    {
     "name": "stdout",
     "output_type": "stream",
     "text": [
      "Summarize the data about minutes spent in the classroom\n",
      "Mean: 305.414718908\n",
      "Standard deviation: 405.91261032\n",
      "Minimum: 0.0\n",
      "Maximum: 3564.7332645\n",
      "lessons completed\n",
      "Mean: 1.63216080402\n",
      "Standard deviation: 3.00140182563\n",
      "Minimum: 0\n",
      "Maximum: 36\n"
     ]
    },
    {
     "data": {
      "image/png": "[encoded data removed]",
      "text/plain": [
       "<matplotlib.figure.Figure at 0x144d8c50>"
      ]
     },
     "metadata": {},
     "output_type": "display_data"
    }
   ],
   "source": [
    "#####################################\n",
    "#                 9                 #\n",
    "#####################################\n",
    "\n",
    "## Adapt the code above to find the mean, standard deviation, minimum, and maximum for\n",
    "## the number of lessons completed by each student during the first week. Try creating\n",
    "## one or more functions to re-use the code above.\n",
    "from collections import defaultdict\n",
    "\n",
    "def group_data(data,key_name):\n",
    "    grouped_data = defaultdict(list)\n",
    "    for data_point in data:\n",
    "        key = data_point[key_name]\n",
    "        grouped_data[key].append(data_point)\n",
    "    return grouped_data\n",
    "\n",
    "engagement_by_account = group_data(paid_engagement_in_first_week,'account_key')\n",
    "\n",
    "#print \"engagement by account\" + repr(engagement_by_account)\n",
    "#print \"\\n end ---------------------------\"\n",
    "def sum_grouped_items(grouped_data,field_name):\n",
    "    summed_data = {}\n",
    "    for key, data_points in grouped_data.items():\n",
    "        total = 0\n",
    "        for data_point in data_points:\n",
    "            total += data_point[field_name]\n",
    "        summed_data[key] = total\n",
    "    return summed_data\n",
    "\n",
    "total_min_by_account = sum_grouped_items(engagement_by_account,'total_minutes_visited')\n",
    "#print total_minutes_by_account\n",
    "\n",
    "#%pylab inline  \n",
    "\n",
    "import numpy as np\n",
    "import matplotlib.pyplot as plt\n",
    "\n",
    "def describe_data(data):\n",
    "    print 'Mean:', np.mean(data)\n",
    "    print 'Standard deviation:', np.std(data)\n",
    "    print 'Minimum:', np.min(data)\n",
    "    print 'Maximum:', np.max(data) \n",
    "    plt.hist(data)\n",
    "    \n",
    "# Summarize the data about minutes spent in the classroom\n",
    "print \"Summarize the data about minutes spent in the classroom\"\n",
    "total_mns = total_min_by_account.values()\n",
    "describe_data(total_mns)\n",
    "\n",
    "# lessons_completed\n",
    "print \"lessons completed\"\n",
    "total_completed_by_account = sum_grouped_items(engagement_by_account,'lessons_completed')\n",
    "#print \"total completed by account: \"+repr(total_completed_by_account)\n",
    "total_completed = total_completed_by_account.values()\n",
    "describe_data(total_completed)"
   ]
  },
  {
   "cell_type": "markdown",
   "metadata": {},
   "source": [
    "## Number of Visits in First Week"
   ]
  },
  {
   "cell_type": "code",
   "execution_count": 81,
   "metadata": {
    "collapsed": false
   },
   "outputs": [
    {
     "name": "stdout",
     "output_type": "stream",
     "text": [
      "Mean: 4.02914572864\n",
      "Standard deviation: 3.54584543843\n",
      "Minimum: 0\n",
      "Maximum: 25\n",
      "Mean: 2.91256281407\n",
      "Standard deviation: 2.22037005491\n",
      "Minimum: 0\n",
      "Maximum: 7\n"
     ]
    },
    {
     "data": {
      "image/png": "[encoded data removed]",
      "text/plain": [
       "<matplotlib.figure.Figure at 0xaa1a780>"
      ]
     },
     "metadata": {},
     "output_type": "display_data"
    }
   ],
   "source": [
    "######################################\n",
    "#                 10                 #\n",
    "######################################\n",
    "\n",
    "## Find the mean, standard deviation, minimum, and maximum for the number of\n",
    "## days each student visits the classroom during the first week.\n",
    "for eng_rec in paid_engagements:\n",
    "    if eng_rec['num_courses_visited'] > 0:\n",
    "        eng_rec['has_visited'] = 1\n",
    "    else:\n",
    "        eng_rec['has_visited'] = 0\n",
    "        \n",
    "\n",
    "total_courses_by_account = sum_grouped_items(engagement_by_account,'num_courses_visited')\n",
    "#print total_courses_by_account\n",
    "#print engagement_by_account\n",
    "describe_data(total_courses_by_account.values())\n",
    "\n",
    "total_hasvisited_by_account = sum_grouped_items(engagement_by_account,'has_visited')\n",
    "#print total_courses_by_account\n",
    "#print engagement_by_account\n",
    "describe_data(total_hasvisited_by_account.values())"
   ]
  },
  {
   "cell_type": "markdown",
   "metadata": {},
   "source": [
    "## Splitting out Passing Students"
   ]
  },
  {
   "cell_type": "code",
   "execution_count": 82,
   "metadata": {
    "collapsed": false
   },
   "outputs": [
    {
     "name": "stdout",
     "output_type": "stream",
     "text": [
      "subway project size:647\n",
      "4528\n",
      "2392\n"
     ]
    },
    {
     "data": {
      "text/plain": [
       "[{'account_key': u'0',\n",
       "  'has_visited': 1,\n",
       "  u'lessons_completed': 0,\n",
       "  u'num_courses_visited': 1,\n",
       "  u'projects_completed': 0,\n",
       "  u'total_minutes_visited': 11.6793745,\n",
       "  u'utc_date': datetime.datetime(2015, 1, 9, 0, 0)},\n",
       " {'account_key': u'0',\n",
       "  'has_visited': 1,\n",
       "  u'lessons_completed': 0,\n",
       "  u'num_courses_visited': 2,\n",
       "  u'projects_completed': 0,\n",
       "  u'total_minutes_visited': 37.2848873333,\n",
       "  u'utc_date': datetime.datetime(2015, 1, 10, 0, 0)}]"
      ]
     },
     "execution_count": 82,
     "metadata": {},
     "output_type": "execute_result"
    }
   ],
   "source": [
    "######################################\n",
    "#                 11                 #\n",
    "######################################\n",
    "\n",
    "## Create two lists of engagement data for paid students in the first week.\n",
    "## The first list should contain data for students who eventually pass the\n",
    "## subway project, and the second list should contain data for students\n",
    "## who do not.\n",
    "subway_project_lesson_keys = ['746169184', '3176718735']\n",
    "\n",
    "pass_subway_project = set()\n",
    "non_passing_engagement = set()\n",
    "for submission in paid_submissions:\n",
    "    project = submission['lesson_key']\n",
    "    rating = submission['assigned_rating']\n",
    "    if project in subway_project_lesson_keys and \\\n",
    "            (rating == 'PASSED' or rating == 'DISTINCTION'):\n",
    "        pass_subway_project.add(submission['account_key'])\n",
    "    \n",
    "print \"subway project size:\"+repr(len(pass_subway_project))\n",
    "\n",
    "passing_engagement = []\n",
    "non_passing_engagement = []\n",
    "\n",
    "for enr in paid_engagement_in_first_week:\n",
    "    if enr['account_key'] in pass_subway_project:\n",
    "        passing_engagement.append(enr)\n",
    "    else:\n",
    "        non_passing_engagement.append(enr)\n",
    "\n",
    "print len(passing_engagement)\n",
    "print len(non_passing_engagement)\n",
    "passing_engagement[0:2]"
   ]
  },
  {
   "cell_type": "markdown",
   "metadata": {},
   "source": [
    "## Comparing the Two Student Groups"
   ]
  },
  {
   "cell_type": "code",
   "execution_count": 83,
   "metadata": {
    "collapsed": false
   },
   "outputs": [
    {
     "name": "stdout",
     "output_type": "stream",
     "text": [
      "----- PASSED -----\n",
      "total_minutes_visited\n",
      "Mean: 391.481722325\n",
      "Standard deviation: 439.653061726\n",
      "Minimum: 0.0\n",
      "Maximum: 3564.7332645\n",
      "lessons_completed\n",
      "Mean: 2.04327666151\n",
      "Standard deviation: 3.1428602763\n",
      "Minimum: 0\n",
      "Maximum: 36\n",
      "num_courses_visited\n",
      "Mean: 4.77743431221\n",
      "Standard deviation: 3.64540118937\n",
      "Minimum: 0\n",
      "Maximum: 25\n",
      "days visited\n",
      "Mean: 3.42967542504\n",
      "Standard deviation: 2.21298340866\n",
      "Minimum: 0\n",
      "Maximum: 7\n",
      "----- FAILED -----\n",
      "total_minutes_visited\n",
      "Mean: 145.399341866\n",
      "Standard deviation: 268.97150373\n",
      "Minimum: 0.0\n",
      "Maximum: 1768.52274933\n",
      "lessons_completed\n",
      "Mean: 0.867816091954\n",
      "Standard deviation: 2.54833703959\n",
      "Minimum: 0\n",
      "Maximum: 27\n",
      "num_courses_visited\n",
      "Mean: 2.63793103448\n",
      "Standard deviation: 2.87497091957\n",
      "Minimum: 0\n",
      "Maximum: 18\n",
      "days visited\n",
      "Mean: 1.95114942529\n",
      "Standard deviation: 1.88929952676\n",
      "Minimum: 0\n",
      "Maximum: 7\n"
     ]
    },
    {
     "data": {
      "image/png": "[encoded data removed]",
      "text/plain": [
       "<matplotlib.figure.Figure at 0x10c0ff60>"
      ]
     },
     "metadata": {},
     "output_type": "display_data"
    }
   ],
   "source": [
    "######################################\n",
    "#                 12                 #\n",
    "######################################\n",
    "\n",
    "## Compute some metrics you're interested in and see how they differ for\n",
    "## students who pass the subway project vs. students who don't. A good\n",
    "## starting point would be the metrics we looked at earlier (minutes spent\n",
    "## in the classroom, lessons completed, and days visited).\n",
    "# 'lessons_completed','num_courses_visited','total_minutes_visited','projects_completed','account_key'\n",
    "print \"----- PASSED -----\"\n",
    "print \"total_minutes_visited\"\n",
    "eng_by_account = group_data(passing_engagement,'account_key')\n",
    "total_by_account = sum_grouped_items(eng_by_account,'total_minutes_visited')\n",
    "describe_data(total_by_account.values())\n",
    "print \"lessons_completed\"\n",
    "total_by_account = sum_grouped_items(eng_by_account,'lessons_completed')\n",
    "describe_data(total_by_account.values())\n",
    "total_by_account = sum_grouped_items(eng_by_account,'num_courses_visited')\n",
    "print \"num_courses_visited\"\n",
    "describe_data(total_by_account.values())\n",
    "total_by_account = sum_grouped_items(eng_by_account,'has_visited')\n",
    "print \"days visited\"\n",
    "describe_data(total_by_account.values())\n",
    "print \"----- FAILED -----\"\n",
    "eng_by_account = group_data(non_passing_engagement,'account_key')\n",
    "print \"total_minutes_visited\"\n",
    "total_by_account = sum_grouped_items(eng_by_account,'total_minutes_visited')\n",
    "describe_data(total_by_account.values())\n",
    "print \"lessons_completed\"\n",
    "total_by_account = sum_grouped_items(eng_by_account,'lessons_completed')\n",
    "describe_data(total_by_account.values())\n",
    "total_by_account = sum_grouped_items(eng_by_account,'num_courses_visited')\n",
    "print \"num_courses_visited\"\n",
    "describe_data(total_by_account.values())\n",
    "total_by_account = sum_grouped_items(eng_by_account,'has_visited')\n",
    "print \"days visited\"\n",
    "describe_data(total_by_account.values())"
   ]
  },
  {
   "cell_type": "markdown",
   "metadata": {},
   "source": [
    "## Making Histograms"
   ]
  },
  {
   "cell_type": "code",
   "execution_count": 84,
   "metadata": {
    "collapsed": false
   },
   "outputs": [
    {
     "name": "stdout",
     "output_type": "stream",
     "text": [
      "----- PASSED -----\n",
      "total_minutes_visited\n"
     ]
    },
    {
     "data": {
      "image/png": "[encoded data removed]",
      "text/plain": [
       "<matplotlib.figure.Figure at 0x10897f28>"
      ]
     },
     "metadata": {},
     "output_type": "display_data"
    },
    {
     "name": "stdout",
     "output_type": "stream",
     "text": [
      "----- FAILED -----\n",
      "total_minutes_visited\n",
      "Mean: 145.399341866\n",
      "Standard deviation: 268.97150373\n",
      "Minimum: 0.0\n",
      "Maximum: 1768.52274933\n"
     ]
    },
    {
     "data": {
      "image/png": "[encoded data removed]",
      "text/plain": [
       "<matplotlib.figure.Figure at 0x10f5dcc0>"
      ]
     },
     "metadata": {},
     "output_type": "display_data"
    }
   ],
   "source": [
    "######################################\n",
    "#                 13                 #\n",
    "######################################\n",
    "\n",
    "## Make histograms of the three metrics we looked at earlier for both\n",
    "## students who passed the subway project and students who didn't. You\n",
    "## might also want to make histograms of any other metrics you examined.\n",
    "print \"----- PASSED -----\"\n",
    "print \"total_minutes_visited\"\n",
    "eng_by_account = group_data(passing_engagement,'account_key')\n",
    "total_by_account = sum_grouped_items(eng_by_account,'total_minutes_visited')\n",
    "#describe_data(total_by_account.values())\n",
    "\n",
    "import matplotlib.pyplot as plt\n",
    "plt.hist(total_by_account.values())\n",
    "plt.show()\n",
    "\n",
    "print \"----- FAILED -----\"\n",
    "non_eng_by_account = group_data(non_passing_engagement,'account_key')\n",
    "print \"total_minutes_visited\"\n",
    "total_by_account = sum_grouped_items(non_eng_by_account,'total_minutes_visited')\n",
    "describe_data(total_by_account.values())\n",
    "\n",
    "import matplotlib.pyplot as plt\n",
    "plt.hist(total_by_account.values())\n",
    "plt.show()"
   ]
  },
  {
   "cell_type": "code",
   "execution_count": 85,
   "metadata": {
    "collapsed": false
   },
   "outputs": [
    {
     "name": "stdout",
     "output_type": "stream",
     "text": [
      "----- PASSED -----\n",
      "lessons_completed\n"
     ]
    },
    {
     "data": {
      "image/png": "[encoded data removed]",
      "text/plain": [
       "<matplotlib.figure.Figure at 0x10c74128>"
      ]
     },
     "metadata": {},
     "output_type": "display_data"
    },
    {
     "name": "stdout",
     "output_type": "stream",
     "text": [
      "----- FAILED -----\n",
      "lessons_completed\n"
     ]
    },
    {
     "data": {
      "image/png": "[encoded data removed]",
      "text/plain": [
       "<matplotlib.figure.Figure at 0xfd31438>"
      ]
     },
     "metadata": {},
     "output_type": "display_data"
    }
   ],
   "source": [
    "print \"----- PASSED -----\"\n",
    "print \"lessons_completed\"\n",
    "total_by_account = sum_grouped_items(eng_by_account,'lessons_completed')\n",
    "\n",
    "plt.hist(total_by_account.values())\n",
    "plt.show()\n",
    "\n",
    "print \"----- FAILED -----\"\n",
    "print \"lessons_completed\"\n",
    "total_by_account = sum_grouped_items(non_eng_by_account,'lessons_completed')\n",
    "\n",
    "plt.hist(total_by_account.values())\n",
    "plt.show()"
   ]
  },
  {
   "cell_type": "code",
   "execution_count": 86,
   "metadata": {
    "collapsed": false,
    "scrolled": true
   },
   "outputs": [
    {
     "name": "stdout",
     "output_type": "stream",
     "text": [
      "----- PASSED -----\n",
      "num_courses_visited\n"
     ]
    },
    {
     "data": {
      "image/png": "[encoded data removed]",
      "text/plain": [
       "<matplotlib.figure.Figure at 0x10c74630>"
      ]
     },
     "metadata": {},
     "output_type": "display_data"
    },
    {
     "name": "stdout",
     "output_type": "stream",
     "text": [
      "----- FAILED -----\n",
      "num_courses_visited\n"
     ]
    },
    {
     "data": {
      "image/png": "[encoded data removed]",
      "text/plain": [
       "<matplotlib.figure.Figure at 0x10c05ef0>"
      ]
     },
     "metadata": {},
     "output_type": "display_data"
    }
   ],
   "source": [
    "print \"----- PASSED -----\"\n",
    "print \"num_courses_visited\"\n",
    "total_by_account = sum_grouped_items(eng_by_account,'num_courses_visited')\n",
    "\n",
    "plt.hist(total_by_account.values())\n",
    "plt.show()\n",
    "\n",
    "print \"----- FAILED -----\"\n",
    "print \"num_courses_visited\"\n",
    "total_by_account = sum_grouped_items(non_eng_by_account,'num_courses_visited')\n",
    "\n",
    "plt.hist(total_by_account.values())\n",
    "plt.show()"
   ]
  },
  {
   "cell_type": "code",
   "execution_count": 104,
   "metadata": {
    "collapsed": false
   },
   "outputs": [
    {
     "name": "stdout",
     "output_type": "stream",
     "text": [
      "----- PASSED -----\n",
      "has_visited\n"
     ]
    },
    {
     "data": {
      "image/png": "[encoded data removed]",
      "text/plain": [
       "<matplotlib.figure.Figure at 0x839c048>"
      ]
     },
     "metadata": {},
     "output_type": "display_data"
    },
    {
     "name": "stdout",
     "output_type": "stream",
     "text": [
      "----- FAILED -----\n",
      "has_visited\n"
     ]
    },
    {
     "data": {
      "image/png": "[encoded data removed]",
      "text/plain": [
       "<matplotlib.figure.Figure at 0xfe739e8>"
      ]
     },
     "metadata": {},
     "output_type": "display_data"
    }
   ],
   "source": [
    "print \"----- PASSED -----\"\n",
    "print \"has_visited\"\n",
    "total_by_account = sum_grouped_items(eng_by_account,'has_visited')\n",
    "\n",
    "plt.hist(total_by_account.values(),bins=9)\n",
    "plt.show()\n",
    "\n",
    "print \"----- FAILED -----\"\n",
    "print \"has_visited\"\n",
    "total_by_account = sum_grouped_items(non_eng_by_account,'has_visited')\n",
    "\n",
    "plt.hist(total_by_account.values(),bins=9)\n",
    "plt.show()"
   ]
  },
  {
   "cell_type": "markdown",
   "metadata": {},
   "source": [
    "## Improving Plots and Sharing Findings"
   ]
  },
  {
   "cell_type": "code",
   "execution_count": 97,
   "metadata": {
    "collapsed": true
   },
   "outputs": [],
   "source": [
    "######################################\n",
    "#                 14                 #\n",
    "######################################\n",
    "\n",
    "## Make a more polished version of at least one of your visualizations\n",
    "## from earlier. Try importing the seaborn library to make the visualization\n",
    "## look better, adding axis labels and a title, and changing one or more\n",
    "## arguments to the hist() function.\n",
    "import numpy as np\n",
    "import matplotlib as mpl\n",
    "import matplotlib.pyplot as plt\n",
    "import seaborn as sns\n",
    "sns.set_style(\"whitegrid\")\n",
    "sns.set_style(\"ticks\")\n",
    "sns.despine()"
   ]
  },
  {
   "cell_type": "code",
   "execution_count": 109,
   "metadata": {
    "collapsed": false
   },
   "outputs": [
    {
     "name": "stdout",
     "output_type": "stream",
     "text": [
      "----- PASSED -----\n",
      "has_visited\n"
     ]
    },
    {
     "data": {
      "image/png": "[encoded data removed]",
      "text/plain": [
       "<matplotlib.figure.Figure at 0x6b050b8>"
      ]
     },
     "metadata": {},
     "output_type": "display_data"
    },
    {
     "name": "stdout",
     "output_type": "stream",
     "text": [
      "----- FAILED -----\n",
      "has_visited\n"
     ]
    },
    {
     "data": {
      "image/png": "[encoded data removed]",
      "text/plain": [
       "<matplotlib.figure.Figure at 0x101c1160>"
      ]
     },
     "metadata": {},
     "output_type": "display_data"
    }
   ],
   "source": [
    "print \"----- PASSED -----\"\n",
    "print \"has_visited\"\n",
    "total_by_account = sum_grouped_items(eng_by_account,'has_visited')\n",
    "\n",
    "plt.hist(total_by_account.values(),bins=9)\n",
    "plt.xlabel(\"nb days\")\n",
    "plt.title(\"nb of days for who passed\")\n",
    "plt.show()\n",
    "\n",
    "print \"----- FAILED -----\"\n",
    "print \"has_visited\"\n",
    "total_by_account = sum_grouped_items(non_eng_by_account,'has_visited')\n",
    "\n",
    "plt.hist(total_by_account.values(),bins=9)\n",
    "plt.xlabel(\"nb days \")\n",
    "plt.title(\"nb of days for who hasn't passed\")\n",
    "plt.show()"
   ]
  },
  {
   "cell_type": "code",
   "execution_count": null,
   "metadata": {
    "collapsed": true
   },
   "outputs": [],
   "source": []
  }
 ],
 "metadata": {
  "anaconda-cloud": {},
  "kernelspec": {
   "display_name": "Python [default]",
   "language": "python",
   "name": "python2"
  },
  "language_info": {
   "codemirror_mode": {
    "name": "ipython",
    "version": 2
   },
   "file_extension": ".py",
   "mimetype": "text/x-python",
   "name": "python",
   "nbconvert_exporter": "python",
   "pygments_lexer": "ipython2",
   "version": "2.7.12"
  }
 },
 "nbformat": 4,
 "nbformat_minor": 0
}
