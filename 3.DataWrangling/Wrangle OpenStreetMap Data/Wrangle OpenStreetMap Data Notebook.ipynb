{
 "cells": [
  {
   "cell_type": "markdown",
   "metadata": {},
   "source": [
    "# OpenStreetMap Analysis\n",
    "\n",
    "Creation Date:16/08/2017 \n",
    "\n",
    "**Author**: Mamadou Diallo\n",
    "\n",
    "Source code for analysis (separate files): '__*OpenStretMapCoding.py*__'"
   ]
  },
  {
   "cell_type": "markdown",
   "metadata": {
    "collapsed": true
   },
   "source": [
    "## Submission\n",
    "\n",
    "Ready to submit your project? \n",
    "Collect the following files: \n",
    "\n",
    "\n",
    "- A pdf document containing your answers to the rubric questions. This file should document your data wrangling process. \n",
    "\n",
    "- Your Python code you used in auditing and cleaning your dataset for the final project. You may also include the original Case Study scripts, but make sure it is clear which code was used for the project, and which applies to the lesson quizzes. We recommend including a Readme file to describe the contents of each file you include in your submission.\n",
    "\n",
    "- A text file containing a link to the map position you wrangled in your project, a short description of the area and a reason for your choice.\n",
    "\n",
    "- An .osm file containing a sample part of the map region you used (around 1 - 10 MB in size). See the notes below.\n",
    "\n",
    "- A text file containing a list of Web sites, books, forums, blog posts, github repositories etc that you referred to or used in this submission (Add N/A if you did not use such resources\n"
   ]
  },
  {
   "cell_type": "markdown",
   "metadata": {},
   "source": [
    "## Issues\n",
    "Printing for big data is not a good choice\n",
    "Size of int (what is the limit): Paris case: variables values could reach millions\n",
    "\n",
    "----\n",
    "File \"C:/Users/DIALLO_MAM/Documents/GitHub/DAND/3.DataWranglingWithMongoDB/Wrangle OpenStreetMap Data/OpenStretMapCoding.py\", line 172, in test\n",
    "    keys, users  = process_map(OSM_PATH)\n",
    "\n",
    "ValueError: too many values to unpack\n",
    "-----\n",
    "ACTIONS: \n",
    "- Check all dead web links\n",
    "- Check against other sources http://www.nanterre.fr/\n",
    "- Check wrong addressses against: http://carto.nanterre.fr/site/index.html?thematique=planVille\n",
    "- Missing elements with my account\n",
    "- Add countours : Quartier from mairie map \n",
    "---\n",
    "Issues with Encoding: ∩╗┐ caracter not recognize\n",
    "script .sql needs to be encoded in ANSI.\n",
    "it generates syntax error.\n",
    "\n",
    "sqlite> .import nodes.csv nodes\n",
    "nodes.csv:1: INSERT failed: datatype mismatch\n",
    ">SELECT * FROM nodes_tags\n",
    ">WHERE type=\"addr\" AND key=\"street\"\n",
    ">LIMIT 20;\n",
    "\n",
    "27091941,street,\"Rue Ledru-Rollin\",addr\n",
    "27091965,street,\"Avenue Franklin Roosevelt\",addr\n",
    "150856317,street,\"AllΘe RenΘ Descartes\",addr\n",
    "165767848,street,\"Boulevard national\",addr\n",
    "180968674,street,\"Place de l'H⌠tel de Ville\",addr\n",
    "180968677,street,\"avenue Joliot Curie\",addr\n",
    "240511235,street,\"Rue Pablo Neruda\",addr\n",
    "241781922,street,\"Avenue Pablo Picasso\",addr\n",
    "275556597,street,\"Avenue du ChΓteau de Malmaison\",addr\n",
    "275560652,street,\"Place des Arts\",addr\n",
    "283564605,street,\"Rue de la RΘpublique\",addr\n",
    "289103493,street,\"Passage d'Arcole\",addr\n",
    "441975540,street,\"Rue Berthelot\",addr\n",
    "493809023,street,\"AllΘe Jules Ferry\",addr\n",
    "524640879,street,\"Rue Maurice Thorez\",addr\n",
    "560157332,street,\"AllΘe des 3 musiciens\",addr\n",
    "575447189,street,\"Rue Ledru-Rollin\",addr\n",
    "605018777,street,\"Rue Maurice Thorez\",addr\n",
    "605024645,street,\"Rue BΘranger\",addr\n",
    "606105836,street,\"Rue des Anciennes Mairies\",addr"
   ]
  },
  {
   "cell_type": "markdown",
   "metadata": {},
   "source": [
    "## License Message about OpenStreetMap"
   ]
  },
  {
   "cell_type": "markdown",
   "metadata": {},
   "source": [
    "### (todo)"
   ]
  },
  {
   "cell_type": "markdown",
   "metadata": {},
   "source": [
    "## Processs (use a diagram)\n",
    "Data -> Gathering -> Extract -> Cleaning -> Storing -> Analysis\n",
    "\n",
    "Cleaning blueprint:\n",
    "- Audit the data\n",
    "-Create a data cleaning plan:\n",
    "    - idenfify causes\n",
    "    - define operations\n",
    "    - test\n",
    "- Execute the plan\n",
    "- Manually Correct"
   ]
  },
  {
   "cell_type": "markdown",
   "metadata": {},
   "source": [
    "## SQLite tasks\n",
    "### Create a database:\n",
    ">.\\sqlite3.exe OpenStreetMap.db\n",
    "\n",
    "### Access the database\n",
    ">.\\sqlite3.exe OpenStreetMap.db\n",
    "\n",
    "### List all databases\n",
    ">sqlite>.databases\n",
    "\n",
    "### Import SQL3 file into SQLite\n",
    ">sqlite> .read db.sql"
   ]
  },
  {
   "cell_type": "markdown",
   "metadata": {},
   "source": [
    "## Files\n",
    ".osm sample file\n",
    "\n",
    ".csv files\n",
    "\n",
    ".xml files\n",
    "\n",
    ".db Database"
   ]
  },
  {
   "cell_type": "markdown",
   "metadata": {},
   "source": [
    "## Data Model Description"
   ]
  },
  {
   "cell_type": "markdown",
   "metadata": {},
   "source": [
    "## (insert diagram)"
   ]
  },
  {
   "cell_type": "markdown",
   "metadata": {},
   "source": [
    "## Visualization\n",
    "### (insert visualization)\n",
    "### MAPS from OpenStreetMap\n",
    "### HEATMAP\n",
    "### Dynamic Maps GoogleMap"
   ]
  },
  {
   "cell_type": "markdown",
   "metadata": {},
   "source": [
    "## Data Cleaning\n",
    "### (todo)\n",
    "- Special caracters In French: à,é,è,ç,ù,ï,'(apostrophe),\"\n",
    "- Are there any Outliers?\n",
    "- Are there any problems with Dates.\n",
    "- Are dates consistents regarding the format, the span?\n",
    "- Are the location within the boundary\n",
    "- Street types: some are in lower case and some are in capital\n",
    "- Street types: They start from the begining\n",
    "- What are the different types of streets? Any abbreviation?\n",
    "- Street names issues:\n",
    "- Rue de l&#39;Église INSTEAD OF Rue de l'Église\n",
    "- Avenue Sisley, Avenue Justin Godart, Rue du Commandant Rivière (3 NAMES)\n",
    "- key is \"addr:street_1\" INSTEAD OF \"addr:street\"\n",
    "- Inconsistencies: \tat Line 67636 \"Place de la Défense\" vs at Line 67795 \"Place de la Defense\"\n",
    "- Uncompleteness: Rue Carnot vs Rue Sadi Carnot\n",
    "- Dead web links: e.g. Diablo Wok Restaurant Avenue de la liberté\n",
    "- keep mapping file bad address -> good address\n",
    "- Line 1512322:\"centre commercial les 4 temps\" vs Line 1512540:\"C Cial Les 4 Temps\"\n",
    "- streets types:\n",
    "Aire: 1\n",
    "allée: 2\n",
    "Allée: 25\n",
    "avenue: 3\n",
    "Avenue: 640\n",
    "Boulevard: 170\n",
    "boulevard: 3\n",
    "C: 1\n",
    "Chemin: 10\n",
    "Circulaire: 1\n",
    "Cours: 1\n",
    "cours: 1\n",
    "Esplanade: 2\n",
    "Ile: 1\n",
    "Impasse: 7\n",
    "Jardins: 3\n",
    "Le: 1\n",
    "Nélaton: 1\n",
    "Passage: 13\n",
    "Pierre: 1\n",
    "Pl: 1\n",
    "Place: 36\n",
    "place: 7\n",
    "Quai: 15\n",
    "quai: 1\n",
    "Residence: 43\n",
    "Route: 27\n",
    "Rue: 1793\n",
    "rue: 31\n",
    "RUE: 3\n",
    "Résidence: 1\n",
    "Square: 1\n",
    "Terrasse: 1\n",
    "terrasse: 1"
   ]
  },
  {
   "cell_type": "markdown",
   "metadata": {},
   "source": [
    "## Conclusion\n",
    "\n",
    "### validity,\n",
    "Definition\n",
    "Examples\n",
    "Actions: Use of validator (TODO: Name)\n",
    "### accuracy,\n",
    "Definition\n",
    "Examples\n",
    "Actions\n",
    "### completeness, \n",
    "Definition\n",
    "Examples\n",
    "Actions\n",
    "### consistency\n",
    "Definition\n",
    "Examples\n",
    "Actions\n",
    "### uniformity\n",
    "Definition: same units\n",
    "Examples\n",
    "Actions"
   ]
  },
  {
   "cell_type": "markdown",
   "metadata": {},
   "source": [
    "## Documentation/References\n",
    "\n",
    "Here is the list of references - including Web sites, books, blog posts - used for my submission.\n",
    "\n",
    "[OSM] Site: \n",
    "[OpenStreetMap](https://www.openstreetmap.org/)\n",
    "\n",
    "[Sample] Location:\n",
    "[OSMSample](https://www.openstreetmap.org)\n",
    "\n",
    "[kaggle1] Example from Nigel Carpenter\n",
    "[Ex1](https://www.kaggle.com/nigelcarpenter/property-location-attempt-3)\n",
    "\n",
    "[kaggle2] Example from \n",
    "[Ex2](https://www.kaggle.com/nigelcarpenter/cleaning-the-data-using-latitude-and-longitude)\n",
    "\n",
    "[kaggle3] Example Animated Map\n",
    "[Ex3](https://www.kaggle.com/vinayshanbhag/pollution-map)\n",
    "\n",
    "[XML1] XML Resources: Tutorial\n",
    "[W3Schools](http://www.w3schools.com/xml/xml_whatis.asp)\n",
    "\n",
    "[XML2] XML Resources: 2nd Tutorial\n",
    "[tizag.com](http://www.tizag.com/xmlTutorial/index.php)\n",
    "\n",
    "[wiki] Wiki on Python and XML\n",
    "[PythonXMLWiki](https://wiki.python.org/moin/PythonXml)\n",
    "\n",
    "[ET] Element Tree Documentation\n",
    "[ET](https://docs.python.org/2/library/xml.etree.elementtree.html#module-xml.etree.ElementTree)\n",
    "\n",
    "[SQL] SQL Resources:\n",
    "[SQL1](www.google.com)\n",
    "\n",
    "[Regex] Testing Regular Expressions\n",
    "[Regex](https://pythex.org/)\n",
    "\n",
    "[SQLSchema] SQL Schema used\n",
    "[TheSQLSchema](https://gist.github.com/swwelch/f1144229848b407e0a5d13fcb7fbbd6f)\n",
    "\n",
    "[Encoding] Issues with unicode\n",
    "[SOF](https://stackoverflow.com/questions/14079343/python-windows-ansi-encoding-again)"
   ]
  }
 ],
 "metadata": {
  "anaconda-cloud": {},
  "kernelspec": {
   "display_name": "Python [conda env:DAND]",
   "language": "python",
   "name": "conda-env-DAND-py"
  },
  "language_info": {
   "codemirror_mode": {
    "name": "ipython",
    "version": 2
   },
   "file_extension": ".py",
   "mimetype": "text/x-python",
   "name": "python",
   "nbconvert_exporter": "python",
   "pygments_lexer": "ipython2",
   "version": "2.7.12"
  }
 },
 "nbformat": 4,
 "nbformat_minor": 2
}
